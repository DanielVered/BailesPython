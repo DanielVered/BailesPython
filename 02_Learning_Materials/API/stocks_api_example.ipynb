{
 "cells": [
  {
   "cell_type": "markdown",
   "metadata": {},
   "source": [
    "<div dir=\"rtl\">\n",
    "\n",
    "# הדגמת עבודה עם API"
   ]
  },
  {
   "cell_type": "markdown",
   "metadata": {},
   "source": [
    "<div dir=\"rtl\">\n",
    "\n",
    "## 1. נייבא את הספריות הרלוונטיות."
   ]
  },
  {
   "cell_type": "code",
   "execution_count": 5,
   "metadata": {
    "id": "8uilQZQUfr3t"
   },
   "outputs": [],
   "source": [
    "import requests\n",
    "import json\n",
    "import pandas as pd"
   ]
  },
  {
   "cell_type": "markdown",
   "metadata": {},
   "source": [
    "<div dir=\"rtl\">\n",
    "\n",
    "## 2. נבנה מילון המכיל שליפה פשוטה בפורמט התואם ל-API - שימו לב לתיעוד!"
   ]
  },
  {
   "cell_type": "code",
   "execution_count": 6,
   "metadata": {
    "id": "a-j9iEvDgouf"
   },
   "outputs": [],
   "source": [
    "query = {\n",
    "    'query' : {\n",
    "        \"account_id\": 794875\n",
    "    }\n",
    "}"
   ]
  },
  {
   "cell_type": "markdown",
   "metadata": {},
   "source": [
    "<div dir=\"rtl\">\n",
    "\n",
    "## 3. נמיר את המילון לפורמט JSON ונשמור אותו כ-PAYLOAD. בנוסף נגדיר HEADER המכיל נתוני אותנטיקציה רלוונטיים."
   ]
  },
  {
   "cell_type": "code",
   "execution_count": 7,
   "metadata": {
    "id": "4aCvCd6ghwWA"
   },
   "outputs": [],
   "source": [
    "payload = json.dumps(query)\n",
    "my_header = {'token' : 'super_secret_token'}"
   ]
  },
  {
   "cell_type": "markdown",
   "metadata": {},
   "source": [
    "<div dir=\"rtl\">\n",
    "\n",
    "## 4. נשלח בקשת POST המכילה את ה-URL של ה-API, את ה-PAYLOAD ואת ה-HEADER."
   ]
  },
  {
   "cell_type": "code",
   "execution_count": 11,
   "metadata": {
    "colab": {
     "base_uri": "https://localhost:8080/",
     "height": 139
    },
    "id": "W2sKWdSef9Pg",
    "outputId": "c93059d0-4f7d-4f4b-acfc-05c80f0a04cc",
    "scrolled": true
   },
   "outputs": [
    {
     "data": {
      "text/plain": [
       "<Response [200]>"
      ]
     },
     "execution_count": 11,
     "metadata": {},
     "output_type": "execute_result"
    }
   ],
   "source": [
    "response = requests.post('https://mongo-rest-week8.herokuapp.com/stocks', data=payload, headers=my_header)\n",
    "response"
   ]
  },
  {
   "cell_type": "markdown",
   "metadata": {},
   "source": [
    "<div dir=\"rtl\">\n",
    "\n",
    "## 5. קוד התגובה הוא 200, כלומר שהתשובה חזרה באופן תקין! כדי לראות את תוכן התגובה נשתמש בתכונה ```response.text```."
   ]
  },
  {
   "cell_type": "code",
   "execution_count": 16,
   "metadata": {},
   "outputs": [
    {
     "name": "stdout",
     "output_type": "stream",
     "text": [
      "{\"documents\":[{\"account_id\":794875,\"transaction_count\":6,\"bucket_start_date\":\"1991-12-27T00:00:00\",\"bucket_end_date\":\"2016-09-06T00:00:00\",\"transactions\":[{\"date\":\"2011-12-28T00:00:00\",\"amount\":1197,\"transaction_code\":\"buy\",\"symbol\":\"nvda\",\"price\":\"12.7330024299341033611199236474931240081787109375\",\"total\":\"15241.40390863112172326054861\"},{\"date\":\"2016-06-13T00:00:00\",\"amount\":8797,\"transaction_code\":\"buy\",\"symbol\":\"nvda\",\"price\":\"46.53873172406391489630550495348870754241943359375\",\"total\":\"409401.2229765902593427995271\"},{\"date\":\"2016-08-31T00:00:00\",\"amount\":6146,\"transaction_code\":\"sell\",\"symbol\":\"ebay\",\"price\":\"32.11600884852845894101847079582512378692626953125\",\"total\":\"197384.9903830559086514995215\"},{\"date\":\"2004-11-22T00:00:00\",\"amount\":253,\"transaction_code\":\"buy\",\"symbol\":\"amzn\",\"price\":\"37.77441226157566944721111212857067584991455078125\",\"total\":\"9556.926302178644370144411369\"},{\"date\":\"2002-05-23T00:00:00\",\"amount\":4521,\"transaction_code\":\"buy\",\"symbol\":\"nvda\",\"price\":\"10.763069758141103449133879621513187885284423828125\",\"total\":\"48659.83837655592869353426977\"},{\"date\":\"1999-09-01T00:00:00\",\"amount\":955,\"transaction_code\":\"buy\",\"symbol\":\"csco\",\"price\":\"27.992136535152877030441231909207999706268310546875\",\"total\":\"26732.49039107099756407137647\"}]}]}\n"
     ]
    }
   ],
   "source": [
    "print(response.text)"
   ]
  },
  {
   "cell_type": "markdown",
   "metadata": {},
   "source": [
    "<div dir=\"rtl\">\n",
    "\n",
    "## 6. זכרו - הפורמט של בקשות ותשובות HTTP הוא לרוב JSON שהוא למעשה מטיפוס מחרוזת."
   ]
  },
  {
   "cell_type": "code",
   "execution_count": 17,
   "metadata": {
    "scrolled": true
   },
   "outputs": [
    {
     "data": {
      "text/plain": [
       "str"
      ]
     },
     "execution_count": 17,
     "metadata": {},
     "output_type": "execute_result"
    }
   ],
   "source": [
    "type(response.text)"
   ]
  },
  {
   "cell_type": "markdown",
   "metadata": {},
   "source": [
    "<div dir=\"rtl\">\n",
    "\n",
    "## 7. עתה נבצע המרה ל-JSON חזרה למילון כדי שנוכל לבחון ולהשתמש בו בצורה נוחה יותר."
   ]
  },
  {
   "cell_type": "code",
   "execution_count": 31,
   "metadata": {},
   "outputs": [
    {
     "data": {
      "text/plain": [
       "{'documents': [{'account_id': 794875,\n",
       "   'transaction_count': 6,\n",
       "   'bucket_start_date': '1991-12-27T00:00:00',\n",
       "   'bucket_end_date': '2016-09-06T00:00:00',\n",
       "   'transactions': [{'date': '2011-12-28T00:00:00',\n",
       "     'amount': 1197,\n",
       "     'transaction_code': 'buy',\n",
       "     'symbol': 'nvda',\n",
       "     'price': '12.7330024299341033611199236474931240081787109375',\n",
       "     'total': '15241.40390863112172326054861'},\n",
       "    {'date': '2016-06-13T00:00:00',\n",
       "     'amount': 8797,\n",
       "     'transaction_code': 'buy',\n",
       "     'symbol': 'nvda',\n",
       "     'price': '46.53873172406391489630550495348870754241943359375',\n",
       "     'total': '409401.2229765902593427995271'},\n",
       "    {'date': '2016-08-31T00:00:00',\n",
       "     'amount': 6146,\n",
       "     'transaction_code': 'sell',\n",
       "     'symbol': 'ebay',\n",
       "     'price': '32.11600884852845894101847079582512378692626953125',\n",
       "     'total': '197384.9903830559086514995215'},\n",
       "    {'date': '2004-11-22T00:00:00',\n",
       "     'amount': 253,\n",
       "     'transaction_code': 'buy',\n",
       "     'symbol': 'amzn',\n",
       "     'price': '37.77441226157566944721111212857067584991455078125',\n",
       "     'total': '9556.926302178644370144411369'},\n",
       "    {'date': '2002-05-23T00:00:00',\n",
       "     'amount': 4521,\n",
       "     'transaction_code': 'buy',\n",
       "     'symbol': 'nvda',\n",
       "     'price': '10.763069758141103449133879621513187885284423828125',\n",
       "     'total': '48659.83837655592869353426977'},\n",
       "    {'date': '1999-09-01T00:00:00',\n",
       "     'amount': 955,\n",
       "     'transaction_code': 'buy',\n",
       "     'symbol': 'csco',\n",
       "     'price': '27.992136535152877030441231909207999706268310546875',\n",
       "     'total': '26732.49039107099756407137647'}]}]}"
      ]
     },
     "execution_count": 31,
     "metadata": {},
     "output_type": "execute_result"
    }
   ],
   "source": [
    "res_dict = json.loads(response.text)\n",
    "res_dict"
   ]
  },
  {
   "cell_type": "markdown",
   "metadata": {},
   "source": [
    "<div dir=\"rtl\">\n",
    "\n",
    "## 8. למעשה קיבלנו מילון שהמפתח שלו הוא documents והערך שלו הוא רשימה של מילון בעצמו! שימו לב למבנה של המילון. מה יקרה אם ננסה להמיר אותו ל-DataFrame?"
   ]
  },
  {
   "cell_type": "code",
   "execution_count": 41,
   "metadata": {
    "colab": {
     "base_uri": "https://localhost:8080/"
    },
    "id": "7ZiXfaMljTfn",
    "outputId": "946df13e-08df-4879-de0d-343c4aacfea6"
   },
   "outputs": [
    {
     "data": {
      "text/plain": [
       "{'account_id': 794875,\n",
       " 'transaction_count': 6,\n",
       " 'bucket_start_date': '1991-12-27T00:00:00',\n",
       " 'bucket_end_date': '2016-09-06T00:00:00',\n",
       " 'transactions': [{'date': '2011-12-28T00:00:00',\n",
       "   'amount': 1197,\n",
       "   'transaction_code': 'buy',\n",
       "   'symbol': 'nvda',\n",
       "   'price': '12.7330024299341033611199236474931240081787109375',\n",
       "   'total': '15241.40390863112172326054861'},\n",
       "  {'date': '2016-06-13T00:00:00',\n",
       "   'amount': 8797,\n",
       "   'transaction_code': 'buy',\n",
       "   'symbol': 'nvda',\n",
       "   'price': '46.53873172406391489630550495348870754241943359375',\n",
       "   'total': '409401.2229765902593427995271'},\n",
       "  {'date': '2016-08-31T00:00:00',\n",
       "   'amount': 6146,\n",
       "   'transaction_code': 'sell',\n",
       "   'symbol': 'ebay',\n",
       "   'price': '32.11600884852845894101847079582512378692626953125',\n",
       "   'total': '197384.9903830559086514995215'},\n",
       "  {'date': '2004-11-22T00:00:00',\n",
       "   'amount': 253,\n",
       "   'transaction_code': 'buy',\n",
       "   'symbol': 'amzn',\n",
       "   'price': '37.77441226157566944721111212857067584991455078125',\n",
       "   'total': '9556.926302178644370144411369'},\n",
       "  {'date': '2002-05-23T00:00:00',\n",
       "   'amount': 4521,\n",
       "   'transaction_code': 'buy',\n",
       "   'symbol': 'nvda',\n",
       "   'price': '10.763069758141103449133879621513187885284423828125',\n",
       "   'total': '48659.83837655592869353426977'},\n",
       "  {'date': '1999-09-01T00:00:00',\n",
       "   'amount': 955,\n",
       "   'transaction_code': 'buy',\n",
       "   'symbol': 'csco',\n",
       "   'price': '27.992136535152877030441231909207999706268310546875',\n",
       "   'total': '26732.49039107099756407137647'}]}"
      ]
     },
     "execution_count": 41,
     "metadata": {},
     "output_type": "execute_result"
    }
   ],
   "source": [
    "documents = res_dict['documents'][0]\n",
    "documents"
   ]
  },
  {
   "cell_type": "code",
   "execution_count": 42,
   "metadata": {
    "scrolled": true
   },
   "outputs": [
    {
     "data": {
      "text/html": [
       "<div>\n",
       "<style scoped>\n",
       "    .dataframe tbody tr th:only-of-type {\n",
       "        vertical-align: middle;\n",
       "    }\n",
       "\n",
       "    .dataframe tbody tr th {\n",
       "        vertical-align: top;\n",
       "    }\n",
       "\n",
       "    .dataframe thead th {\n",
       "        text-align: right;\n",
       "    }\n",
       "</style>\n",
       "<table border=\"1\" class=\"dataframe\">\n",
       "  <thead>\n",
       "    <tr style=\"text-align: right;\">\n",
       "      <th></th>\n",
       "      <th>account_id</th>\n",
       "      <th>transaction_count</th>\n",
       "      <th>bucket_start_date</th>\n",
       "      <th>bucket_end_date</th>\n",
       "      <th>transactions</th>\n",
       "    </tr>\n",
       "  </thead>\n",
       "  <tbody>\n",
       "    <tr>\n",
       "      <th>0</th>\n",
       "      <td>794875</td>\n",
       "      <td>6</td>\n",
       "      <td>1991-12-27T00:00:00</td>\n",
       "      <td>2016-09-06T00:00:00</td>\n",
       "      <td>{'date': '2011-12-28T00:00:00', 'amount': 1197...</td>\n",
       "    </tr>\n",
       "    <tr>\n",
       "      <th>1</th>\n",
       "      <td>794875</td>\n",
       "      <td>6</td>\n",
       "      <td>1991-12-27T00:00:00</td>\n",
       "      <td>2016-09-06T00:00:00</td>\n",
       "      <td>{'date': '2016-06-13T00:00:00', 'amount': 8797...</td>\n",
       "    </tr>\n",
       "    <tr>\n",
       "      <th>2</th>\n",
       "      <td>794875</td>\n",
       "      <td>6</td>\n",
       "      <td>1991-12-27T00:00:00</td>\n",
       "      <td>2016-09-06T00:00:00</td>\n",
       "      <td>{'date': '2016-08-31T00:00:00', 'amount': 6146...</td>\n",
       "    </tr>\n",
       "    <tr>\n",
       "      <th>3</th>\n",
       "      <td>794875</td>\n",
       "      <td>6</td>\n",
       "      <td>1991-12-27T00:00:00</td>\n",
       "      <td>2016-09-06T00:00:00</td>\n",
       "      <td>{'date': '2004-11-22T00:00:00', 'amount': 253,...</td>\n",
       "    </tr>\n",
       "    <tr>\n",
       "      <th>4</th>\n",
       "      <td>794875</td>\n",
       "      <td>6</td>\n",
       "      <td>1991-12-27T00:00:00</td>\n",
       "      <td>2016-09-06T00:00:00</td>\n",
       "      <td>{'date': '2002-05-23T00:00:00', 'amount': 4521...</td>\n",
       "    </tr>\n",
       "    <tr>\n",
       "      <th>5</th>\n",
       "      <td>794875</td>\n",
       "      <td>6</td>\n",
       "      <td>1991-12-27T00:00:00</td>\n",
       "      <td>2016-09-06T00:00:00</td>\n",
       "      <td>{'date': '1999-09-01T00:00:00', 'amount': 955,...</td>\n",
       "    </tr>\n",
       "  </tbody>\n",
       "</table>\n",
       "</div>"
      ],
      "text/plain": [
       "   account_id  transaction_count    bucket_start_date      bucket_end_date  \\\n",
       "0      794875                  6  1991-12-27T00:00:00  2016-09-06T00:00:00   \n",
       "1      794875                  6  1991-12-27T00:00:00  2016-09-06T00:00:00   \n",
       "2      794875                  6  1991-12-27T00:00:00  2016-09-06T00:00:00   \n",
       "3      794875                  6  1991-12-27T00:00:00  2016-09-06T00:00:00   \n",
       "4      794875                  6  1991-12-27T00:00:00  2016-09-06T00:00:00   \n",
       "5      794875                  6  1991-12-27T00:00:00  2016-09-06T00:00:00   \n",
       "\n",
       "                                        transactions  \n",
       "0  {'date': '2011-12-28T00:00:00', 'amount': 1197...  \n",
       "1  {'date': '2016-06-13T00:00:00', 'amount': 8797...  \n",
       "2  {'date': '2016-08-31T00:00:00', 'amount': 6146...  \n",
       "3  {'date': '2004-11-22T00:00:00', 'amount': 253,...  \n",
       "4  {'date': '2002-05-23T00:00:00', 'amount': 4521...  \n",
       "5  {'date': '1999-09-01T00:00:00', 'amount': 955,...  "
      ]
     },
     "execution_count": 42,
     "metadata": {},
     "output_type": "execute_result"
    }
   ],
   "source": [
    "pd.DataFrame(documents)"
   ]
  },
  {
   "cell_type": "markdown",
   "metadata": {},
   "source": [
    "<div dir=\"rtl\">\n",
    "\n",
    "## 9. שימו לב שבתוך המילון קיים עוד מילון! למעשה - רשימה של מילונים ש-Pandas לא יודעת כיצד להמיר אותה לעמודה. מה שנוכל לעשות הוא להמיר את ה-transactions ל-DataFrame נפרד. שימו לב איך המילון נראה ואיך נראה לאחריו ה-DataFrame."
   ]
  },
  {
   "cell_type": "code",
   "execution_count": 45,
   "metadata": {},
   "outputs": [
    {
     "data": {
      "text/plain": [
       "[{'date': '2011-12-28T00:00:00',\n",
       "  'amount': 1197,\n",
       "  'transaction_code': 'buy',\n",
       "  'symbol': 'nvda',\n",
       "  'price': '12.7330024299341033611199236474931240081787109375',\n",
       "  'total': '15241.40390863112172326054861'},\n",
       " {'date': '2016-06-13T00:00:00',\n",
       "  'amount': 8797,\n",
       "  'transaction_code': 'buy',\n",
       "  'symbol': 'nvda',\n",
       "  'price': '46.53873172406391489630550495348870754241943359375',\n",
       "  'total': '409401.2229765902593427995271'},\n",
       " {'date': '2016-08-31T00:00:00',\n",
       "  'amount': 6146,\n",
       "  'transaction_code': 'sell',\n",
       "  'symbol': 'ebay',\n",
       "  'price': '32.11600884852845894101847079582512378692626953125',\n",
       "  'total': '197384.9903830559086514995215'},\n",
       " {'date': '2004-11-22T00:00:00',\n",
       "  'amount': 253,\n",
       "  'transaction_code': 'buy',\n",
       "  'symbol': 'amzn',\n",
       "  'price': '37.77441226157566944721111212857067584991455078125',\n",
       "  'total': '9556.926302178644370144411369'},\n",
       " {'date': '2002-05-23T00:00:00',\n",
       "  'amount': 4521,\n",
       "  'transaction_code': 'buy',\n",
       "  'symbol': 'nvda',\n",
       "  'price': '10.763069758141103449133879621513187885284423828125',\n",
       "  'total': '48659.83837655592869353426977'},\n",
       " {'date': '1999-09-01T00:00:00',\n",
       "  'amount': 955,\n",
       "  'transaction_code': 'buy',\n",
       "  'symbol': 'csco',\n",
       "  'price': '27.992136535152877030441231909207999706268310546875',\n",
       "  'total': '26732.49039107099756407137647'}]"
      ]
     },
     "execution_count": 45,
     "metadata": {},
     "output_type": "execute_result"
    }
   ],
   "source": [
    "transactions = documents['transactions']\n",
    "transactions"
   ]
  },
  {
   "cell_type": "code",
   "execution_count": 48,
   "metadata": {},
   "outputs": [
    {
     "data": {
      "text/html": [
       "<div>\n",
       "<style scoped>\n",
       "    .dataframe tbody tr th:only-of-type {\n",
       "        vertical-align: middle;\n",
       "    }\n",
       "\n",
       "    .dataframe tbody tr th {\n",
       "        vertical-align: top;\n",
       "    }\n",
       "\n",
       "    .dataframe thead th {\n",
       "        text-align: right;\n",
       "    }\n",
       "</style>\n",
       "<table border=\"1\" class=\"dataframe\">\n",
       "  <thead>\n",
       "    <tr style=\"text-align: right;\">\n",
       "      <th></th>\n",
       "      <th>date</th>\n",
       "      <th>amount</th>\n",
       "      <th>transaction_code</th>\n",
       "      <th>symbol</th>\n",
       "      <th>price</th>\n",
       "      <th>total</th>\n",
       "    </tr>\n",
       "  </thead>\n",
       "  <tbody>\n",
       "    <tr>\n",
       "      <th>0</th>\n",
       "      <td>2011-12-28T00:00:00</td>\n",
       "      <td>1197</td>\n",
       "      <td>buy</td>\n",
       "      <td>nvda</td>\n",
       "      <td>12.7330024299341033611199236474931240081787109375</td>\n",
       "      <td>15241.40390863112172326054861</td>\n",
       "    </tr>\n",
       "    <tr>\n",
       "      <th>1</th>\n",
       "      <td>2016-06-13T00:00:00</td>\n",
       "      <td>8797</td>\n",
       "      <td>buy</td>\n",
       "      <td>nvda</td>\n",
       "      <td>46.5387317240639148963055049534887075424194335...</td>\n",
       "      <td>409401.2229765902593427995271</td>\n",
       "    </tr>\n",
       "    <tr>\n",
       "      <th>2</th>\n",
       "      <td>2016-08-31T00:00:00</td>\n",
       "      <td>6146</td>\n",
       "      <td>sell</td>\n",
       "      <td>ebay</td>\n",
       "      <td>32.1160088485284589410184707958251237869262695...</td>\n",
       "      <td>197384.9903830559086514995215</td>\n",
       "    </tr>\n",
       "    <tr>\n",
       "      <th>3</th>\n",
       "      <td>2004-11-22T00:00:00</td>\n",
       "      <td>253</td>\n",
       "      <td>buy</td>\n",
       "      <td>amzn</td>\n",
       "      <td>37.7744122615756694472111121285706758499145507...</td>\n",
       "      <td>9556.926302178644370144411369</td>\n",
       "    </tr>\n",
       "    <tr>\n",
       "      <th>4</th>\n",
       "      <td>2002-05-23T00:00:00</td>\n",
       "      <td>4521</td>\n",
       "      <td>buy</td>\n",
       "      <td>nvda</td>\n",
       "      <td>10.7630697581411034491338796215131878852844238...</td>\n",
       "      <td>48659.83837655592869353426977</td>\n",
       "    </tr>\n",
       "  </tbody>\n",
       "</table>\n",
       "</div>"
      ],
      "text/plain": [
       "                  date  amount transaction_code symbol  \\\n",
       "0  2011-12-28T00:00:00    1197              buy   nvda   \n",
       "1  2016-06-13T00:00:00    8797              buy   nvda   \n",
       "2  2016-08-31T00:00:00    6146             sell   ebay   \n",
       "3  2004-11-22T00:00:00     253              buy   amzn   \n",
       "4  2002-05-23T00:00:00    4521              buy   nvda   \n",
       "\n",
       "                                               price  \\\n",
       "0  12.7330024299341033611199236474931240081787109375   \n",
       "1  46.5387317240639148963055049534887075424194335...   \n",
       "2  32.1160088485284589410184707958251237869262695...   \n",
       "3  37.7744122615756694472111121285706758499145507...   \n",
       "4  10.7630697581411034491338796215131878852844238...   \n",
       "\n",
       "                           total  \n",
       "0  15241.40390863112172326054861  \n",
       "1  409401.2229765902593427995271  \n",
       "2  197384.9903830559086514995215  \n",
       "3  9556.926302178644370144411369  \n",
       "4  48659.83837655592869353426977  "
      ]
     },
     "execution_count": 48,
     "metadata": {},
     "output_type": "execute_result"
    }
   ],
   "source": [
    "df = pd.DataFrame(transactions)\n",
    "df.head()"
   ]
  },
  {
   "cell_type": "code",
   "execution_count": 51,
   "metadata": {},
   "outputs": [
    {
     "name": "stdout",
     "output_type": "stream",
     "text": [
      "<class 'pandas.core.frame.DataFrame'>\n",
      "RangeIndex: 6 entries, 0 to 5\n",
      "Data columns (total 6 columns):\n",
      " #   Column            Non-Null Count  Dtype \n",
      "---  ------            --------------  ----- \n",
      " 0   date              6 non-null      object\n",
      " 1   amount            6 non-null      int64 \n",
      " 2   transaction_code  6 non-null      object\n",
      " 3   symbol            6 non-null      object\n",
      " 4   price             6 non-null      object\n",
      " 5   total             6 non-null      object\n",
      "dtypes: int64(1), object(5)\n",
      "memory usage: 416.0+ bytes\n"
     ]
    }
   ],
   "source": [
    "df.info()"
   ]
  },
  {
   "cell_type": "markdown",
   "metadata": {},
   "source": [
    "<div dir=\"rtl\">\n",
    "\n",
    "## 10. עכשיו נוכל לנתח את המידע באמצעות כל מה שלמדנו על ספריית pandas! כעת נבצע המרה לטיפוסי הנתונים הנכונים ובזאת נסיים את ההדגמה."
   ]
  },
  {
   "cell_type": "code",
   "execution_count": 56,
   "metadata": {},
   "outputs": [
    {
     "name": "stdout",
     "output_type": "stream",
     "text": [
      "<class 'pandas.core.frame.DataFrame'>\n",
      "RangeIndex: 6 entries, 0 to 5\n",
      "Data columns (total 6 columns):\n",
      " #   Column            Non-Null Count  Dtype  \n",
      "---  ------            --------------  -----  \n",
      " 0   date              6 non-null      object \n",
      " 1   amount            6 non-null      int32  \n",
      " 2   transaction_code  6 non-null      object \n",
      " 3   symbol            6 non-null      object \n",
      " 4   price             6 non-null      float64\n",
      " 5   total             6 non-null      float64\n",
      "dtypes: float64(2), int32(1), object(3)\n",
      "memory usage: 392.0+ bytes\n"
     ]
    }
   ],
   "source": [
    "df = df.astype({'price': 'float'\n",
    "                , 'total': 'float'\n",
    "                , 'amount': 'int'})\n",
    "df.info()"
   ]
  }
 ],
 "metadata": {
  "colab": {
   "collapsed_sections": [],
   "name": "stocks_api_example.ipynb",
   "provenance": []
  },
  "kernelspec": {
   "display_name": "Python 3",
   "language": "python",
   "name": "python3"
  },
  "language_info": {
   "codemirror_mode": {
    "name": "ipython",
    "version": 3
   },
   "file_extension": ".py",
   "mimetype": "text/x-python",
   "name": "python",
   "nbconvert_exporter": "python",
   "pygments_lexer": "ipython3",
   "version": "3.8.5"
  }
 },
 "nbformat": 4,
 "nbformat_minor": 1
}
