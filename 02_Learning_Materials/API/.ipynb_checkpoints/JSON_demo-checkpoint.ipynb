{
 "cells": [
  {
   "cell_type": "markdown",
   "metadata": {},
   "source": [
    "<div dir=\"rtl\">\n",
    "\n",
    "# הדגמת ספריית ```json```"
   ]
  },
  {
   "cell_type": "markdown",
   "metadata": {},
   "source": [
    "<div dir=\"rtl\">\n",
    "    \n",
    "## נתחיל מלייבא את הספרייה"
   ]
  },
  {
   "cell_type": "code",
   "execution_count": 13,
   "metadata": {},
   "outputs": [],
   "source": [
    "import json"
   ]
  },
  {
   "cell_type": "markdown",
   "metadata": {},
   "source": [
    "<div dir=\"rtl\">\n",
    "    \n",
    "## עכשיו ניצור מילון שמכיל מידע על מגמת ביילס"
   ]
  },
  {
   "cell_type": "code",
   "execution_count": 4,
   "metadata": {},
   "outputs": [],
   "source": [
    "bailes = {\n",
    "    'class_name': 'bailes'\n",
    "    , 'class_id': 7\n",
    "    , 'segel_count': 4\n",
    "    , 'students_count': 21\n",
    "    , 'segel_detailes': {\n",
    "        'Daniel':\n",
    "        {\n",
    "            'full_name': 'Daniel Vered'\n",
    "            , 'age': 21\n",
    "        }\n",
    "        , 'Noa':\n",
    "        {\n",
    "            'full_name': 'Noa Sandler'\n",
    "            , 'age': 22\n",
    "        }\n",
    "        , 'Ido':\n",
    "        {\n",
    "            'full_name': 'Ido Lempel'\n",
    "            , 'age': 21\n",
    "        }\n",
    "    }\n",
    "}"
   ]
  },
  {
   "cell_type": "code",
   "execution_count": 5,
   "metadata": {},
   "outputs": [
    {
     "data": {
      "text/plain": [
       "{'class_name': 'bailes',\n",
       " 'class_id': 7,\n",
       " 'segel_count': 4,\n",
       " 'students_count': 21,\n",
       " 'segel_detailes': {'Daniel': {'full_name': 'Daniel Vered', 'age': 21},\n",
       "  'Noa': {'full_name': 'Noa Sandler', 'age': 22},\n",
       "  'Ido': {'full_name': 'Ido Lempel', 'age': 21}}}"
      ]
     },
     "execution_count": 5,
     "metadata": {},
     "output_type": "execute_result"
    }
   ],
   "source": [
    "bailes"
   ]
  },
  {
   "cell_type": "markdown",
   "metadata": {},
   "source": [
    "<div dir=\"rtl\">\n",
    "    \n",
    "## שימו לב שטיפוס הנתונים של המשתנה ```bailes```הוא ``` dict```"
   ]
  },
  {
   "cell_type": "code",
   "execution_count": 6,
   "metadata": {},
   "outputs": [
    {
     "data": {
      "text/plain": [
       "dict"
      ]
     },
     "execution_count": 6,
     "metadata": {},
     "output_type": "execute_result"
    }
   ],
   "source": [
    "type(bailes)"
   ]
  },
  {
   "cell_type": "markdown",
   "metadata": {},
   "source": [
    "<div dir=\"rtl\">\n",
    "\n",
    "## עכשיו נמיר את המילון לפורמט JSON באמצעות ```json.dumps()```"
   ]
  },
  {
   "cell_type": "code",
   "execution_count": 11,
   "metadata": {},
   "outputs": [
    {
     "data": {
      "text/plain": [
       "'{\"class_name\": \"bailes\", \"class_id\": 7, \"segel_count\": 4, \"students_count\": 21, \"segel_detailes\": {\"Daniel\": {\"full_name\": \"Daniel Vered\", \"age\": 21}, \"Noa\": {\"full_name\": \"Noa Sandler\", \"age\": 22}, \"Ido\": {\"full_name\": \"Ido Lempel\", \"age\": 21}}}'"
      ]
     },
     "execution_count": 11,
     "metadata": {},
     "output_type": "execute_result"
    }
   ],
   "source": [
    "bailes_json = json.dumps(bailes)\n",
    "bailes_json"
   ]
  },
  {
   "cell_type": "markdown",
   "metadata": {},
   "source": [
    "<div dir=\"rtl\">\n",
    "\n",
    "## שימו לב שטיפוס הנתונים של המשתנה ```bailes_json``` הוא ```str```"
   ]
  },
  {
   "cell_type": "code",
   "execution_count": 12,
   "metadata": {
    "scrolled": true
   },
   "outputs": [
    {
     "data": {
      "text/plain": [
       "str"
      ]
     },
     "execution_count": 12,
     "metadata": {},
     "output_type": "execute_result"
    }
   ],
   "source": [
    "type(bailes_json)"
   ]
  }
 ],
 "metadata": {
  "kernelspec": {
   "display_name": "Python 3",
   "language": "python",
   "name": "python3"
  },
  "language_info": {
   "codemirror_mode": {
    "name": "ipython",
    "version": 3
   },
   "file_extension": ".py",
   "mimetype": "text/x-python",
   "name": "python",
   "nbconvert_exporter": "python",
   "pygments_lexer": "ipython3",
   "version": "3.8.5"
  }
 },
 "nbformat": 4,
 "nbformat_minor": 4
}
