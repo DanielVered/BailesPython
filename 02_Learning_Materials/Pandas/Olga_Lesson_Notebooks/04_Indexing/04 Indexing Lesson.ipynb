{
 "cells": [
  {
   "cell_type": "markdown",
   "metadata": {},
   "source": [
    "<img src=\"Images\\Slide1.PNG\" />"
   ]
  },
  {
   "cell_type": "code",
   "execution_count": 1,
   "metadata": {},
   "outputs": [],
   "source": [
    "import pandas as pd\n",
    "import numpy as np"
   ]
  },
  {
   "cell_type": "markdown",
   "metadata": {},
   "source": [
    "<img src=\"Images\\Slide2.PNG\" />"
   ]
  },
  {
   "cell_type": "code",
   "execution_count": 3,
   "metadata": {},
   "outputs": [
    {
     "data": {
      "text/html": [
       "<div>\n",
       "<style scoped>\n",
       "    .dataframe tbody tr th:only-of-type {\n",
       "        vertical-align: middle;\n",
       "    }\n",
       "\n",
       "    .dataframe tbody tr th {\n",
       "        vertical-align: top;\n",
       "    }\n",
       "\n",
       "    .dataframe thead th {\n",
       "        text-align: right;\n",
       "    }\n",
       "</style>\n",
       "<table border=\"1\" class=\"dataframe\">\n",
       "  <thead>\n",
       "    <tr style=\"text-align: right;\">\n",
       "      <th></th>\n",
       "      <th>Film</th>\n",
       "      <th>Year</th>\n",
       "      <th>Actor</th>\n",
       "      <th>Director</th>\n",
       "      <th>Box Office</th>\n",
       "      <th>Budget</th>\n",
       "      <th>Bond Actor Salary</th>\n",
       "    </tr>\n",
       "  </thead>\n",
       "  <tbody>\n",
       "    <tr>\n",
       "      <th>0</th>\n",
       "      <td>Dr. No</td>\n",
       "      <td>1962</td>\n",
       "      <td>Sean Connery</td>\n",
       "      <td>Terence Young</td>\n",
       "      <td>448.8</td>\n",
       "      <td>7.0</td>\n",
       "      <td>0.6</td>\n",
       "    </tr>\n",
       "    <tr>\n",
       "      <th>1</th>\n",
       "      <td>From Russia with Love</td>\n",
       "      <td>1963</td>\n",
       "      <td>Sean Connery</td>\n",
       "      <td>Terence Young</td>\n",
       "      <td>543.8</td>\n",
       "      <td>12.6</td>\n",
       "      <td>1.6</td>\n",
       "    </tr>\n",
       "    <tr>\n",
       "      <th>2</th>\n",
       "      <td>Goldfinger</td>\n",
       "      <td>1964</td>\n",
       "      <td>Sean Connery</td>\n",
       "      <td>Guy Hamilton</td>\n",
       "      <td>820.4</td>\n",
       "      <td>18.6</td>\n",
       "      <td>3.2</td>\n",
       "    </tr>\n",
       "  </tbody>\n",
       "</table>\n",
       "</div>"
      ],
      "text/plain": [
       "                    Film  Year         Actor       Director  Box Office  \\\n",
       "0                 Dr. No  1962  Sean Connery  Terence Young       448.8   \n",
       "1  From Russia with Love  1963  Sean Connery  Terence Young       543.8   \n",
       "2             Goldfinger  1964  Sean Connery   Guy Hamilton       820.4   \n",
       "\n",
       "   Budget  Bond Actor Salary  \n",
       "0     7.0                0.6  \n",
       "1    12.6                1.6  \n",
       "2    18.6                3.2  "
      ]
     },
     "execution_count": 3,
     "metadata": {},
     "output_type": "execute_result"
    }
   ],
   "source": [
    "bond = pd.read_csv(\"jamesbond.csv\")\n",
    "bond.head(3)"
   ]
  },
  {
   "cell_type": "markdown",
   "metadata": {},
   "source": [
    "<img src=\"Images\\Slide3.PNG\" />"
   ]
  },
  {
   "cell_type": "markdown",
   "metadata": {},
   "source": [
    "## The `.set_index()` and `.reset_index()` Methods"
   ]
  },
  {
   "cell_type": "code",
   "execution_count": 4,
   "metadata": {},
   "outputs": [
    {
     "data": {
      "text/html": [
       "<div>\n",
       "<style scoped>\n",
       "    .dataframe tbody tr th:only-of-type {\n",
       "        vertical-align: middle;\n",
       "    }\n",
       "\n",
       "    .dataframe tbody tr th {\n",
       "        vertical-align: top;\n",
       "    }\n",
       "\n",
       "    .dataframe thead th {\n",
       "        text-align: right;\n",
       "    }\n",
       "</style>\n",
       "<table border=\"1\" class=\"dataframe\">\n",
       "  <thead>\n",
       "    <tr style=\"text-align: right;\">\n",
       "      <th></th>\n",
       "      <th>Film</th>\n",
       "      <th>Year</th>\n",
       "      <th>Actor</th>\n",
       "      <th>Director</th>\n",
       "      <th>Box Office</th>\n",
       "      <th>Budget</th>\n",
       "      <th>Bond Actor Salary</th>\n",
       "    </tr>\n",
       "  </thead>\n",
       "  <tbody>\n",
       "    <tr>\n",
       "      <th>0</th>\n",
       "      <td>Dr. No</td>\n",
       "      <td>1962</td>\n",
       "      <td>Sean Connery</td>\n",
       "      <td>Terence Young</td>\n",
       "      <td>448.8</td>\n",
       "      <td>7.0</td>\n",
       "      <td>0.6</td>\n",
       "    </tr>\n",
       "    <tr>\n",
       "      <th>1</th>\n",
       "      <td>From Russia with Love</td>\n",
       "      <td>1963</td>\n",
       "      <td>Sean Connery</td>\n",
       "      <td>Terence Young</td>\n",
       "      <td>543.8</td>\n",
       "      <td>12.6</td>\n",
       "      <td>1.6</td>\n",
       "    </tr>\n",
       "    <tr>\n",
       "      <th>2</th>\n",
       "      <td>Goldfinger</td>\n",
       "      <td>1964</td>\n",
       "      <td>Sean Connery</td>\n",
       "      <td>Guy Hamilton</td>\n",
       "      <td>820.4</td>\n",
       "      <td>18.6</td>\n",
       "      <td>3.2</td>\n",
       "    </tr>\n",
       "  </tbody>\n",
       "</table>\n",
       "</div>"
      ],
      "text/plain": [
       "                    Film  Year         Actor       Director  Box Office  \\\n",
       "0                 Dr. No  1962  Sean Connery  Terence Young       448.8   \n",
       "1  From Russia with Love  1963  Sean Connery  Terence Young       543.8   \n",
       "2             Goldfinger  1964  Sean Connery   Guy Hamilton       820.4   \n",
       "\n",
       "   Budget  Bond Actor Salary  \n",
       "0     7.0                0.6  \n",
       "1    12.6                1.6  \n",
       "2    18.6                3.2  "
      ]
     },
     "execution_count": 4,
     "metadata": {},
     "output_type": "execute_result"
    }
   ],
   "source": [
    "bond = pd.read_csv(\"jamesbond.csv\")\n",
    "bond.head(3)"
   ]
  },
  {
   "cell_type": "code",
   "execution_count": 5,
   "metadata": {},
   "outputs": [
    {
     "data": {
      "text/html": [
       "<div>\n",
       "<style scoped>\n",
       "    .dataframe tbody tr th:only-of-type {\n",
       "        vertical-align: middle;\n",
       "    }\n",
       "\n",
       "    .dataframe tbody tr th {\n",
       "        vertical-align: top;\n",
       "    }\n",
       "\n",
       "    .dataframe thead th {\n",
       "        text-align: right;\n",
       "    }\n",
       "</style>\n",
       "<table border=\"1\" class=\"dataframe\">\n",
       "  <thead>\n",
       "    <tr style=\"text-align: right;\">\n",
       "      <th></th>\n",
       "      <th>Year</th>\n",
       "      <th>Actor</th>\n",
       "      <th>Director</th>\n",
       "      <th>Box Office</th>\n",
       "      <th>Budget</th>\n",
       "      <th>Bond Actor Salary</th>\n",
       "    </tr>\n",
       "    <tr>\n",
       "      <th>Film</th>\n",
       "      <th></th>\n",
       "      <th></th>\n",
       "      <th></th>\n",
       "      <th></th>\n",
       "      <th></th>\n",
       "      <th></th>\n",
       "    </tr>\n",
       "  </thead>\n",
       "  <tbody>\n",
       "    <tr>\n",
       "      <th>Dr. No</th>\n",
       "      <td>1962</td>\n",
       "      <td>Sean Connery</td>\n",
       "      <td>Terence Young</td>\n",
       "      <td>448.8</td>\n",
       "      <td>7.0</td>\n",
       "      <td>0.6</td>\n",
       "    </tr>\n",
       "    <tr>\n",
       "      <th>From Russia with Love</th>\n",
       "      <td>1963</td>\n",
       "      <td>Sean Connery</td>\n",
       "      <td>Terence Young</td>\n",
       "      <td>543.8</td>\n",
       "      <td>12.6</td>\n",
       "      <td>1.6</td>\n",
       "    </tr>\n",
       "    <tr>\n",
       "      <th>Goldfinger</th>\n",
       "      <td>1964</td>\n",
       "      <td>Sean Connery</td>\n",
       "      <td>Guy Hamilton</td>\n",
       "      <td>820.4</td>\n",
       "      <td>18.6</td>\n",
       "      <td>3.2</td>\n",
       "    </tr>\n",
       "  </tbody>\n",
       "</table>\n",
       "</div>"
      ],
      "text/plain": [
       "                       Year         Actor       Director  Box Office  Budget  \\\n",
       "Film                                                                           \n",
       "Dr. No                 1962  Sean Connery  Terence Young       448.8     7.0   \n",
       "From Russia with Love  1963  Sean Connery  Terence Young       543.8    12.6   \n",
       "Goldfinger             1964  Sean Connery   Guy Hamilton       820.4    18.6   \n",
       "\n",
       "                       Bond Actor Salary  \n",
       "Film                                      \n",
       "Dr. No                               0.6  \n",
       "From Russia with Love                1.6  \n",
       "Goldfinger                           3.2  "
      ]
     },
     "execution_count": 5,
     "metadata": {},
     "output_type": "execute_result"
    }
   ],
   "source": [
    "bond.set_index(\"Film\", inplace = True)\n",
    "bond.head(3)"
   ]
  },
  {
   "cell_type": "code",
   "execution_count": 6,
   "metadata": {},
   "outputs": [],
   "source": [
    "#bond.reset_index(drop = True)"
   ]
  },
  {
   "cell_type": "code",
   "execution_count": 7,
   "metadata": {
    "scrolled": true
   },
   "outputs": [
    {
     "data": {
      "text/html": [
       "<div>\n",
       "<style scoped>\n",
       "    .dataframe tbody tr th:only-of-type {\n",
       "        vertical-align: middle;\n",
       "    }\n",
       "\n",
       "    .dataframe tbody tr th {\n",
       "        vertical-align: top;\n",
       "    }\n",
       "\n",
       "    .dataframe thead th {\n",
       "        text-align: right;\n",
       "    }\n",
       "</style>\n",
       "<table border=\"1\" class=\"dataframe\">\n",
       "  <thead>\n",
       "    <tr style=\"text-align: right;\">\n",
       "      <th></th>\n",
       "      <th>Film</th>\n",
       "      <th>Year</th>\n",
       "      <th>Actor</th>\n",
       "      <th>Director</th>\n",
       "      <th>Box Office</th>\n",
       "      <th>Budget</th>\n",
       "      <th>Bond Actor Salary</th>\n",
       "    </tr>\n",
       "  </thead>\n",
       "  <tbody>\n",
       "    <tr>\n",
       "      <th>0</th>\n",
       "      <td>Dr. No</td>\n",
       "      <td>1962</td>\n",
       "      <td>Sean Connery</td>\n",
       "      <td>Terence Young</td>\n",
       "      <td>448.8</td>\n",
       "      <td>7.0</td>\n",
       "      <td>0.6</td>\n",
       "    </tr>\n",
       "    <tr>\n",
       "      <th>1</th>\n",
       "      <td>From Russia with Love</td>\n",
       "      <td>1963</td>\n",
       "      <td>Sean Connery</td>\n",
       "      <td>Terence Young</td>\n",
       "      <td>543.8</td>\n",
       "      <td>12.6</td>\n",
       "      <td>1.6</td>\n",
       "    </tr>\n",
       "    <tr>\n",
       "      <th>2</th>\n",
       "      <td>Goldfinger</td>\n",
       "      <td>1964</td>\n",
       "      <td>Sean Connery</td>\n",
       "      <td>Guy Hamilton</td>\n",
       "      <td>820.4</td>\n",
       "      <td>18.6</td>\n",
       "      <td>3.2</td>\n",
       "    </tr>\n",
       "  </tbody>\n",
       "</table>\n",
       "</div>"
      ],
      "text/plain": [
       "                    Film  Year         Actor       Director  Box Office  \\\n",
       "0                 Dr. No  1962  Sean Connery  Terence Young       448.8   \n",
       "1  From Russia with Love  1963  Sean Connery  Terence Young       543.8   \n",
       "2             Goldfinger  1964  Sean Connery   Guy Hamilton       820.4   \n",
       "\n",
       "   Budget  Bond Actor Salary  \n",
       "0     7.0                0.6  \n",
       "1    12.6                1.6  \n",
       "2    18.6                3.2  "
      ]
     },
     "execution_count": 7,
     "metadata": {},
     "output_type": "execute_result"
    }
   ],
   "source": [
    "bond.reset_index(drop = False, inplace = True)\n",
    "bond.head(3)"
   ]
  },
  {
   "cell_type": "code",
   "execution_count": 8,
   "metadata": {},
   "outputs": [
    {
     "data": {
      "text/html": [
       "<div>\n",
       "<style scoped>\n",
       "    .dataframe tbody tr th:only-of-type {\n",
       "        vertical-align: middle;\n",
       "    }\n",
       "\n",
       "    .dataframe tbody tr th {\n",
       "        vertical-align: top;\n",
       "    }\n",
       "\n",
       "    .dataframe thead th {\n",
       "        text-align: right;\n",
       "    }\n",
       "</style>\n",
       "<table border=\"1\" class=\"dataframe\">\n",
       "  <thead>\n",
       "    <tr style=\"text-align: right;\">\n",
       "      <th></th>\n",
       "      <th>Year</th>\n",
       "      <th>Actor</th>\n",
       "      <th>Director</th>\n",
       "      <th>Box Office</th>\n",
       "      <th>Budget</th>\n",
       "      <th>Bond Actor Salary</th>\n",
       "    </tr>\n",
       "    <tr>\n",
       "      <th>Film</th>\n",
       "      <th></th>\n",
       "      <th></th>\n",
       "      <th></th>\n",
       "      <th></th>\n",
       "      <th></th>\n",
       "      <th></th>\n",
       "    </tr>\n",
       "  </thead>\n",
       "  <tbody>\n",
       "    <tr>\n",
       "      <th>Dr. No</th>\n",
       "      <td>1962</td>\n",
       "      <td>Sean Connery</td>\n",
       "      <td>Terence Young</td>\n",
       "      <td>448.8</td>\n",
       "      <td>7.0</td>\n",
       "      <td>0.6</td>\n",
       "    </tr>\n",
       "    <tr>\n",
       "      <th>From Russia with Love</th>\n",
       "      <td>1963</td>\n",
       "      <td>Sean Connery</td>\n",
       "      <td>Terence Young</td>\n",
       "      <td>543.8</td>\n",
       "      <td>12.6</td>\n",
       "      <td>1.6</td>\n",
       "    </tr>\n",
       "    <tr>\n",
       "      <th>Goldfinger</th>\n",
       "      <td>1964</td>\n",
       "      <td>Sean Connery</td>\n",
       "      <td>Guy Hamilton</td>\n",
       "      <td>820.4</td>\n",
       "      <td>18.6</td>\n",
       "      <td>3.2</td>\n",
       "    </tr>\n",
       "  </tbody>\n",
       "</table>\n",
       "</div>"
      ],
      "text/plain": [
       "                       Year         Actor       Director  Box Office  Budget  \\\n",
       "Film                                                                           \n",
       "Dr. No                 1962  Sean Connery  Terence Young       448.8     7.0   \n",
       "From Russia with Love  1963  Sean Connery  Terence Young       543.8    12.6   \n",
       "Goldfinger             1964  Sean Connery   Guy Hamilton       820.4    18.6   \n",
       "\n",
       "                       Bond Actor Salary  \n",
       "Film                                      \n",
       "Dr. No                               0.6  \n",
       "From Russia with Love                1.6  \n",
       "Goldfinger                           3.2  "
      ]
     },
     "execution_count": 8,
     "metadata": {},
     "output_type": "execute_result"
    }
   ],
   "source": [
    "bond.set_index(\"Film\", inplace = True)\n",
    "bond.head(3)"
   ]
  },
  {
   "cell_type": "code",
   "execution_count": 9,
   "metadata": {},
   "outputs": [
    {
     "data": {
      "text/html": [
       "<div>\n",
       "<style scoped>\n",
       "    .dataframe tbody tr th:only-of-type {\n",
       "        vertical-align: middle;\n",
       "    }\n",
       "\n",
       "    .dataframe tbody tr th {\n",
       "        vertical-align: top;\n",
       "    }\n",
       "\n",
       "    .dataframe thead th {\n",
       "        text-align: right;\n",
       "    }\n",
       "</style>\n",
       "<table border=\"1\" class=\"dataframe\">\n",
       "  <thead>\n",
       "    <tr style=\"text-align: right;\">\n",
       "      <th></th>\n",
       "      <th>Film</th>\n",
       "      <th>Actor</th>\n",
       "      <th>Director</th>\n",
       "      <th>Box Office</th>\n",
       "      <th>Budget</th>\n",
       "      <th>Bond Actor Salary</th>\n",
       "    </tr>\n",
       "    <tr>\n",
       "      <th>Year</th>\n",
       "      <th></th>\n",
       "      <th></th>\n",
       "      <th></th>\n",
       "      <th></th>\n",
       "      <th></th>\n",
       "      <th></th>\n",
       "    </tr>\n",
       "  </thead>\n",
       "  <tbody>\n",
       "    <tr>\n",
       "      <th>1962</th>\n",
       "      <td>Dr. No</td>\n",
       "      <td>Sean Connery</td>\n",
       "      <td>Terence Young</td>\n",
       "      <td>448.8</td>\n",
       "      <td>7.0</td>\n",
       "      <td>0.6</td>\n",
       "    </tr>\n",
       "    <tr>\n",
       "      <th>1963</th>\n",
       "      <td>From Russia with Love</td>\n",
       "      <td>Sean Connery</td>\n",
       "      <td>Terence Young</td>\n",
       "      <td>543.8</td>\n",
       "      <td>12.6</td>\n",
       "      <td>1.6</td>\n",
       "    </tr>\n",
       "    <tr>\n",
       "      <th>1964</th>\n",
       "      <td>Goldfinger</td>\n",
       "      <td>Sean Connery</td>\n",
       "      <td>Guy Hamilton</td>\n",
       "      <td>820.4</td>\n",
       "      <td>18.6</td>\n",
       "      <td>3.2</td>\n",
       "    </tr>\n",
       "  </tbody>\n",
       "</table>\n",
       "</div>"
      ],
      "text/plain": [
       "                       Film         Actor       Director  Box Office  Budget  \\\n",
       "Year                                                                           \n",
       "1962                 Dr. No  Sean Connery  Terence Young       448.8     7.0   \n",
       "1963  From Russia with Love  Sean Connery  Terence Young       543.8    12.6   \n",
       "1964             Goldfinger  Sean Connery   Guy Hamilton       820.4    18.6   \n",
       "\n",
       "      Bond Actor Salary  \n",
       "Year                     \n",
       "1962                0.6  \n",
       "1963                1.6  \n",
       "1964                3.2  "
      ]
     },
     "execution_count": 9,
     "metadata": {},
     "output_type": "execute_result"
    }
   ],
   "source": [
    "bond.reset_index(inplace = True)\n",
    "bond.set_index(\"Year\", inplace = True)\n",
    "bond.head(3)"
   ]
  },
  {
   "cell_type": "markdown",
   "metadata": {},
   "source": [
    "## Retrieve Rows by Index Label with `.loc[]`"
   ]
  },
  {
   "cell_type": "code",
   "execution_count": 28,
   "metadata": {},
   "outputs": [
    {
     "data": {
      "text/html": [
       "<div>\n",
       "<style scoped>\n",
       "    .dataframe tbody tr th:only-of-type {\n",
       "        vertical-align: middle;\n",
       "    }\n",
       "\n",
       "    .dataframe tbody tr th {\n",
       "        vertical-align: top;\n",
       "    }\n",
       "\n",
       "    .dataframe thead th {\n",
       "        text-align: right;\n",
       "    }\n",
       "</style>\n",
       "<table border=\"1\" class=\"dataframe\">\n",
       "  <thead>\n",
       "    <tr style=\"text-align: right;\">\n",
       "      <th></th>\n",
       "      <th>Year</th>\n",
       "      <th>Actor</th>\n",
       "      <th>Director</th>\n",
       "      <th>Box Office</th>\n",
       "      <th>Budget</th>\n",
       "      <th>Bond Actor Salary</th>\n",
       "    </tr>\n",
       "    <tr>\n",
       "      <th>Film</th>\n",
       "      <th></th>\n",
       "      <th></th>\n",
       "      <th></th>\n",
       "      <th></th>\n",
       "      <th></th>\n",
       "      <th></th>\n",
       "    </tr>\n",
       "  </thead>\n",
       "  <tbody>\n",
       "    <tr>\n",
       "      <th>A View to a Kill</th>\n",
       "      <td>1985</td>\n",
       "      <td>Roger Moore</td>\n",
       "      <td>John Glen</td>\n",
       "      <td>275.2</td>\n",
       "      <td>54.5</td>\n",
       "      <td>9.1</td>\n",
       "    </tr>\n",
       "    <tr>\n",
       "      <th>Casino Royale</th>\n",
       "      <td>2006</td>\n",
       "      <td>Daniel Craig</td>\n",
       "      <td>Martin Campbell</td>\n",
       "      <td>581.5</td>\n",
       "      <td>145.3</td>\n",
       "      <td>3.3</td>\n",
       "    </tr>\n",
       "    <tr>\n",
       "      <th>Casino Royale</th>\n",
       "      <td>1967</td>\n",
       "      <td>David Niven</td>\n",
       "      <td>Ken Hughes</td>\n",
       "      <td>315.0</td>\n",
       "      <td>85.0</td>\n",
       "      <td>NaN</td>\n",
       "    </tr>\n",
       "  </tbody>\n",
       "</table>\n",
       "</div>"
      ],
      "text/plain": [
       "                  Year         Actor         Director  Box Office  Budget  \\\n",
       "Film                                                                        \n",
       "A View to a Kill  1985   Roger Moore        John Glen       275.2    54.5   \n",
       "Casino Royale     2006  Daniel Craig  Martin Campbell       581.5   145.3   \n",
       "Casino Royale     1967   David Niven       Ken Hughes       315.0    85.0   \n",
       "\n",
       "                  Bond Actor Salary  \n",
       "Film                                 \n",
       "A View to a Kill                9.1  \n",
       "Casino Royale                   3.3  \n",
       "Casino Royale                   NaN  "
      ]
     },
     "execution_count": 28,
     "metadata": {},
     "output_type": "execute_result"
    }
   ],
   "source": [
    "bond = pd.read_csv(\"jamesbond.csv\", index_col = \"Film\")\n",
    "bond.sort_index(inplace = True)\n",
    "bond.head(3)"
   ]
  },
  {
   "cell_type": "code",
   "execution_count": 29,
   "metadata": {},
   "outputs": [
    {
     "data": {
      "text/plain": [
       "Year                         1964\n",
       "Actor                Sean Connery\n",
       "Director             Guy Hamilton\n",
       "Box Office                  820.4\n",
       "Budget                       18.6\n",
       "Bond Actor Salary             3.2\n",
       "Name: Goldfinger, dtype: object"
      ]
     },
     "execution_count": 29,
     "metadata": {},
     "output_type": "execute_result"
    }
   ],
   "source": [
    "bond.loc[\"Goldfinger\"]"
   ]
  },
  {
   "cell_type": "code",
   "execution_count": 30,
   "metadata": {},
   "outputs": [
    {
     "data": {
      "text/plain": [
       "pandas.core.series.Series"
      ]
     },
     "execution_count": 30,
     "metadata": {},
     "output_type": "execute_result"
    }
   ],
   "source": [
    "type(bond.loc[\"Goldfinger\"])"
   ]
  },
  {
   "cell_type": "code",
   "execution_count": 31,
   "metadata": {},
   "outputs": [
    {
     "data": {
      "text/plain": [
       "'Martin Campbell'"
      ]
     },
     "execution_count": 31,
     "metadata": {},
     "output_type": "execute_result"
    }
   ],
   "source": [
    "bond.loc[\"GoldenEye\",'Director']"
   ]
  },
  {
   "cell_type": "code",
   "execution_count": 32,
   "metadata": {},
   "outputs": [
    {
     "data": {
      "text/plain": [
       "'Martin Campbell'"
      ]
     },
     "execution_count": 32,
     "metadata": {},
     "output_type": "execute_result"
    }
   ],
   "source": [
    "bond.loc[\"GoldenEye\"]['Director']"
   ]
  },
  {
   "cell_type": "code",
   "execution_count": 33,
   "metadata": {},
   "outputs": [],
   "source": [
    "#bond.loc[\"Sacred Bond\"]"
   ]
  },
  {
   "cell_type": "code",
   "execution_count": 34,
   "metadata": {},
   "outputs": [
    {
     "data": {
      "text/html": [
       "<div>\n",
       "<style scoped>\n",
       "    .dataframe tbody tr th:only-of-type {\n",
       "        vertical-align: middle;\n",
       "    }\n",
       "\n",
       "    .dataframe tbody tr th {\n",
       "        vertical-align: top;\n",
       "    }\n",
       "\n",
       "    .dataframe thead th {\n",
       "        text-align: right;\n",
       "    }\n",
       "</style>\n",
       "<table border=\"1\" class=\"dataframe\">\n",
       "  <thead>\n",
       "    <tr style=\"text-align: right;\">\n",
       "      <th></th>\n",
       "      <th>Year</th>\n",
       "      <th>Actor</th>\n",
       "      <th>Director</th>\n",
       "      <th>Box Office</th>\n",
       "      <th>Budget</th>\n",
       "      <th>Bond Actor Salary</th>\n",
       "    </tr>\n",
       "    <tr>\n",
       "      <th>Film</th>\n",
       "      <th></th>\n",
       "      <th></th>\n",
       "      <th></th>\n",
       "      <th></th>\n",
       "      <th></th>\n",
       "      <th></th>\n",
       "    </tr>\n",
       "  </thead>\n",
       "  <tbody>\n",
       "    <tr>\n",
       "      <th>Casino Royale</th>\n",
       "      <td>2006</td>\n",
       "      <td>Daniel Craig</td>\n",
       "      <td>Martin Campbell</td>\n",
       "      <td>581.5</td>\n",
       "      <td>145.3</td>\n",
       "      <td>3.3</td>\n",
       "    </tr>\n",
       "    <tr>\n",
       "      <th>Casino Royale</th>\n",
       "      <td>1967</td>\n",
       "      <td>David Niven</td>\n",
       "      <td>Ken Hughes</td>\n",
       "      <td>315.0</td>\n",
       "      <td>85.0</td>\n",
       "      <td>NaN</td>\n",
       "    </tr>\n",
       "  </tbody>\n",
       "</table>\n",
       "</div>"
      ],
      "text/plain": [
       "               Year         Actor         Director  Box Office  Budget  \\\n",
       "Film                                                                     \n",
       "Casino Royale  2006  Daniel Craig  Martin Campbell       581.5   145.3   \n",
       "Casino Royale  1967   David Niven       Ken Hughes       315.0    85.0   \n",
       "\n",
       "               Bond Actor Salary  \n",
       "Film                              \n",
       "Casino Royale                3.3  \n",
       "Casino Royale                NaN  "
      ]
     },
     "execution_count": 34,
     "metadata": {},
     "output_type": "execute_result"
    }
   ],
   "source": [
    "bond.loc[\"Casino Royale\"]"
   ]
  },
  {
   "cell_type": "code",
   "execution_count": 35,
   "metadata": {},
   "outputs": [
    {
     "data": {
      "text/plain": [
       "pandas.core.frame.DataFrame"
      ]
     },
     "execution_count": 35,
     "metadata": {},
     "output_type": "execute_result"
    }
   ],
   "source": [
    "type(bond.loc[\"Casino Royale\"])"
   ]
  },
  {
   "cell_type": "code",
   "execution_count": 36,
   "metadata": {},
   "outputs": [
    {
     "data": {
      "text/html": [
       "<div>\n",
       "<style scoped>\n",
       "    .dataframe tbody tr th:only-of-type {\n",
       "        vertical-align: middle;\n",
       "    }\n",
       "\n",
       "    .dataframe tbody tr th {\n",
       "        vertical-align: top;\n",
       "    }\n",
       "\n",
       "    .dataframe thead th {\n",
       "        text-align: right;\n",
       "    }\n",
       "</style>\n",
       "<table border=\"1\" class=\"dataframe\">\n",
       "  <thead>\n",
       "    <tr style=\"text-align: right;\">\n",
       "      <th></th>\n",
       "      <th>Year</th>\n",
       "      <th>Actor</th>\n",
       "      <th>Director</th>\n",
       "      <th>Box Office</th>\n",
       "      <th>Budget</th>\n",
       "      <th>Bond Actor Salary</th>\n",
       "    </tr>\n",
       "    <tr>\n",
       "      <th>Film</th>\n",
       "      <th></th>\n",
       "      <th></th>\n",
       "      <th></th>\n",
       "      <th></th>\n",
       "      <th></th>\n",
       "      <th></th>\n",
       "    </tr>\n",
       "  </thead>\n",
       "  <tbody>\n",
       "    <tr>\n",
       "      <th>Diamonds Are Forever</th>\n",
       "      <td>1971</td>\n",
       "      <td>Sean Connery</td>\n",
       "      <td>Guy Hamilton</td>\n",
       "      <td>442.5</td>\n",
       "      <td>34.7</td>\n",
       "      <td>5.8</td>\n",
       "    </tr>\n",
       "    <tr>\n",
       "      <th>Die Another Day</th>\n",
       "      <td>2002</td>\n",
       "      <td>Pierce Brosnan</td>\n",
       "      <td>Lee Tamahori</td>\n",
       "      <td>465.4</td>\n",
       "      <td>154.2</td>\n",
       "      <td>17.9</td>\n",
       "    </tr>\n",
       "    <tr>\n",
       "      <th>Dr. No</th>\n",
       "      <td>1962</td>\n",
       "      <td>Sean Connery</td>\n",
       "      <td>Terence Young</td>\n",
       "      <td>448.8</td>\n",
       "      <td>7.0</td>\n",
       "      <td>0.6</td>\n",
       "    </tr>\n",
       "    <tr>\n",
       "      <th>For Your Eyes Only</th>\n",
       "      <td>1981</td>\n",
       "      <td>Roger Moore</td>\n",
       "      <td>John Glen</td>\n",
       "      <td>449.4</td>\n",
       "      <td>60.2</td>\n",
       "      <td>NaN</td>\n",
       "    </tr>\n",
       "    <tr>\n",
       "      <th>From Russia with Love</th>\n",
       "      <td>1963</td>\n",
       "      <td>Sean Connery</td>\n",
       "      <td>Terence Young</td>\n",
       "      <td>543.8</td>\n",
       "      <td>12.6</td>\n",
       "      <td>1.6</td>\n",
       "    </tr>\n",
       "    <tr>\n",
       "      <th>GoldenEye</th>\n",
       "      <td>1995</td>\n",
       "      <td>Pierce Brosnan</td>\n",
       "      <td>Martin Campbell</td>\n",
       "      <td>518.5</td>\n",
       "      <td>76.9</td>\n",
       "      <td>5.1</td>\n",
       "    </tr>\n",
       "    <tr>\n",
       "      <th>Goldfinger</th>\n",
       "      <td>1964</td>\n",
       "      <td>Sean Connery</td>\n",
       "      <td>Guy Hamilton</td>\n",
       "      <td>820.4</td>\n",
       "      <td>18.6</td>\n",
       "      <td>3.2</td>\n",
       "    </tr>\n",
       "    <tr>\n",
       "      <th>Licence to Kill</th>\n",
       "      <td>1989</td>\n",
       "      <td>Timothy Dalton</td>\n",
       "      <td>John Glen</td>\n",
       "      <td>250.9</td>\n",
       "      <td>56.7</td>\n",
       "      <td>7.9</td>\n",
       "    </tr>\n",
       "    <tr>\n",
       "      <th>Live and Let Die</th>\n",
       "      <td>1973</td>\n",
       "      <td>Roger Moore</td>\n",
       "      <td>Guy Hamilton</td>\n",
       "      <td>460.3</td>\n",
       "      <td>30.8</td>\n",
       "      <td>NaN</td>\n",
       "    </tr>\n",
       "    <tr>\n",
       "      <th>Moonraker</th>\n",
       "      <td>1979</td>\n",
       "      <td>Roger Moore</td>\n",
       "      <td>Lewis Gilbert</td>\n",
       "      <td>535.0</td>\n",
       "      <td>91.5</td>\n",
       "      <td>NaN</td>\n",
       "    </tr>\n",
       "  </tbody>\n",
       "</table>\n",
       "</div>"
      ],
      "text/plain": [
       "                       Year           Actor         Director  Box Office  \\\n",
       "Film                                                                       \n",
       "Diamonds Are Forever   1971    Sean Connery     Guy Hamilton       442.5   \n",
       "Die Another Day        2002  Pierce Brosnan     Lee Tamahori       465.4   \n",
       "Dr. No                 1962    Sean Connery    Terence Young       448.8   \n",
       "For Your Eyes Only     1981     Roger Moore        John Glen       449.4   \n",
       "From Russia with Love  1963    Sean Connery    Terence Young       543.8   \n",
       "GoldenEye              1995  Pierce Brosnan  Martin Campbell       518.5   \n",
       "Goldfinger             1964    Sean Connery     Guy Hamilton       820.4   \n",
       "Licence to Kill        1989  Timothy Dalton        John Glen       250.9   \n",
       "Live and Let Die       1973     Roger Moore     Guy Hamilton       460.3   \n",
       "Moonraker              1979     Roger Moore    Lewis Gilbert       535.0   \n",
       "\n",
       "                       Budget  Bond Actor Salary  \n",
       "Film                                              \n",
       "Diamonds Are Forever     34.7                5.8  \n",
       "Die Another Day         154.2               17.9  \n",
       "Dr. No                    7.0                0.6  \n",
       "For Your Eyes Only       60.2                NaN  \n",
       "From Russia with Love    12.6                1.6  \n",
       "GoldenEye                76.9                5.1  \n",
       "Goldfinger               18.6                3.2  \n",
       "Licence to Kill          56.7                7.9  \n",
       "Live and Let Die         30.8                NaN  \n",
       "Moonraker                91.5                NaN  "
      ]
     },
     "execution_count": 36,
     "metadata": {},
     "output_type": "execute_result"
    }
   ],
   "source": [
    "bond.loc[\"Diamonds Are Forever\" : \"Moonraker\"]"
   ]
  },
  {
   "cell_type": "code",
   "execution_count": 37,
   "metadata": {},
   "outputs": [
    {
     "data": {
      "text/html": [
       "<div>\n",
       "<style scoped>\n",
       "    .dataframe tbody tr th:only-of-type {\n",
       "        vertical-align: middle;\n",
       "    }\n",
       "\n",
       "    .dataframe tbody tr th {\n",
       "        vertical-align: top;\n",
       "    }\n",
       "\n",
       "    .dataframe thead th {\n",
       "        text-align: right;\n",
       "    }\n",
       "</style>\n",
       "<table border=\"1\" class=\"dataframe\">\n",
       "  <thead>\n",
       "    <tr style=\"text-align: right;\">\n",
       "      <th></th>\n",
       "      <th>Year</th>\n",
       "      <th>Actor</th>\n",
       "      <th>Director</th>\n",
       "      <th>Box Office</th>\n",
       "      <th>Budget</th>\n",
       "      <th>Bond Actor Salary</th>\n",
       "    </tr>\n",
       "    <tr>\n",
       "      <th>Film</th>\n",
       "      <th></th>\n",
       "      <th></th>\n",
       "      <th></th>\n",
       "      <th></th>\n",
       "      <th></th>\n",
       "      <th></th>\n",
       "    </tr>\n",
       "  </thead>\n",
       "  <tbody>\n",
       "    <tr>\n",
       "      <th>A View to a Kill</th>\n",
       "      <td>1985</td>\n",
       "      <td>Roger Moore</td>\n",
       "      <td>John Glen</td>\n",
       "      <td>275.2</td>\n",
       "      <td>54.5</td>\n",
       "      <td>9.1</td>\n",
       "    </tr>\n",
       "    <tr>\n",
       "      <th>Casino Royale</th>\n",
       "      <td>2006</td>\n",
       "      <td>Daniel Craig</td>\n",
       "      <td>Martin Campbell</td>\n",
       "      <td>581.5</td>\n",
       "      <td>145.3</td>\n",
       "      <td>3.3</td>\n",
       "    </tr>\n",
       "    <tr>\n",
       "      <th>Casino Royale</th>\n",
       "      <td>1967</td>\n",
       "      <td>David Niven</td>\n",
       "      <td>Ken Hughes</td>\n",
       "      <td>315.0</td>\n",
       "      <td>85.0</td>\n",
       "      <td>NaN</td>\n",
       "    </tr>\n",
       "    <tr>\n",
       "      <th>Diamonds Are Forever</th>\n",
       "      <td>1971</td>\n",
       "      <td>Sean Connery</td>\n",
       "      <td>Guy Hamilton</td>\n",
       "      <td>442.5</td>\n",
       "      <td>34.7</td>\n",
       "      <td>5.8</td>\n",
       "    </tr>\n",
       "    <tr>\n",
       "      <th>Die Another Day</th>\n",
       "      <td>2002</td>\n",
       "      <td>Pierce Brosnan</td>\n",
       "      <td>Lee Tamahori</td>\n",
       "      <td>465.4</td>\n",
       "      <td>154.2</td>\n",
       "      <td>17.9</td>\n",
       "    </tr>\n",
       "    <tr>\n",
       "      <th>Dr. No</th>\n",
       "      <td>1962</td>\n",
       "      <td>Sean Connery</td>\n",
       "      <td>Terence Young</td>\n",
       "      <td>448.8</td>\n",
       "      <td>7.0</td>\n",
       "      <td>0.6</td>\n",
       "    </tr>\n",
       "    <tr>\n",
       "      <th>For Your Eyes Only</th>\n",
       "      <td>1981</td>\n",
       "      <td>Roger Moore</td>\n",
       "      <td>John Glen</td>\n",
       "      <td>449.4</td>\n",
       "      <td>60.2</td>\n",
       "      <td>NaN</td>\n",
       "    </tr>\n",
       "    <tr>\n",
       "      <th>From Russia with Love</th>\n",
       "      <td>1963</td>\n",
       "      <td>Sean Connery</td>\n",
       "      <td>Terence Young</td>\n",
       "      <td>543.8</td>\n",
       "      <td>12.6</td>\n",
       "      <td>1.6</td>\n",
       "    </tr>\n",
       "    <tr>\n",
       "      <th>GoldenEye</th>\n",
       "      <td>1995</td>\n",
       "      <td>Pierce Brosnan</td>\n",
       "      <td>Martin Campbell</td>\n",
       "      <td>518.5</td>\n",
       "      <td>76.9</td>\n",
       "      <td>5.1</td>\n",
       "    </tr>\n",
       "    <tr>\n",
       "      <th>Goldfinger</th>\n",
       "      <td>1964</td>\n",
       "      <td>Sean Connery</td>\n",
       "      <td>Guy Hamilton</td>\n",
       "      <td>820.4</td>\n",
       "      <td>18.6</td>\n",
       "      <td>3.2</td>\n",
       "    </tr>\n",
       "    <tr>\n",
       "      <th>Licence to Kill</th>\n",
       "      <td>1989</td>\n",
       "      <td>Timothy Dalton</td>\n",
       "      <td>John Glen</td>\n",
       "      <td>250.9</td>\n",
       "      <td>56.7</td>\n",
       "      <td>7.9</td>\n",
       "    </tr>\n",
       "    <tr>\n",
       "      <th>Live and Let Die</th>\n",
       "      <td>1973</td>\n",
       "      <td>Roger Moore</td>\n",
       "      <td>Guy Hamilton</td>\n",
       "      <td>460.3</td>\n",
       "      <td>30.8</td>\n",
       "      <td>NaN</td>\n",
       "    </tr>\n",
       "    <tr>\n",
       "      <th>Moonraker</th>\n",
       "      <td>1979</td>\n",
       "      <td>Roger Moore</td>\n",
       "      <td>Lewis Gilbert</td>\n",
       "      <td>535.0</td>\n",
       "      <td>91.5</td>\n",
       "      <td>NaN</td>\n",
       "    </tr>\n",
       "    <tr>\n",
       "      <th>Never Say Never Again</th>\n",
       "      <td>1983</td>\n",
       "      <td>Sean Connery</td>\n",
       "      <td>Irvin Kershner</td>\n",
       "      <td>380.0</td>\n",
       "      <td>86.0</td>\n",
       "      <td>NaN</td>\n",
       "    </tr>\n",
       "    <tr>\n",
       "      <th>Octopussy</th>\n",
       "      <td>1983</td>\n",
       "      <td>Roger Moore</td>\n",
       "      <td>John Glen</td>\n",
       "      <td>373.8</td>\n",
       "      <td>53.9</td>\n",
       "      <td>7.8</td>\n",
       "    </tr>\n",
       "    <tr>\n",
       "      <th>On Her Majesty's Secret Service</th>\n",
       "      <td>1969</td>\n",
       "      <td>George Lazenby</td>\n",
       "      <td>Peter R. Hunt</td>\n",
       "      <td>291.5</td>\n",
       "      <td>37.3</td>\n",
       "      <td>0.6</td>\n",
       "    </tr>\n",
       "  </tbody>\n",
       "</table>\n",
       "</div>"
      ],
      "text/plain": [
       "                                 Year           Actor         Director  \\\n",
       "Film                                                                     \n",
       "A View to a Kill                 1985     Roger Moore        John Glen   \n",
       "Casino Royale                    2006    Daniel Craig  Martin Campbell   \n",
       "Casino Royale                    1967     David Niven       Ken Hughes   \n",
       "Diamonds Are Forever             1971    Sean Connery     Guy Hamilton   \n",
       "Die Another Day                  2002  Pierce Brosnan     Lee Tamahori   \n",
       "Dr. No                           1962    Sean Connery    Terence Young   \n",
       "For Your Eyes Only               1981     Roger Moore        John Glen   \n",
       "From Russia with Love            1963    Sean Connery    Terence Young   \n",
       "GoldenEye                        1995  Pierce Brosnan  Martin Campbell   \n",
       "Goldfinger                       1964    Sean Connery     Guy Hamilton   \n",
       "Licence to Kill                  1989  Timothy Dalton        John Glen   \n",
       "Live and Let Die                 1973     Roger Moore     Guy Hamilton   \n",
       "Moonraker                        1979     Roger Moore    Lewis Gilbert   \n",
       "Never Say Never Again            1983    Sean Connery   Irvin Kershner   \n",
       "Octopussy                        1983     Roger Moore        John Glen   \n",
       "On Her Majesty's Secret Service  1969  George Lazenby    Peter R. Hunt   \n",
       "\n",
       "                                 Box Office  Budget  Bond Actor Salary  \n",
       "Film                                                                    \n",
       "A View to a Kill                      275.2    54.5                9.1  \n",
       "Casino Royale                         581.5   145.3                3.3  \n",
       "Casino Royale                         315.0    85.0                NaN  \n",
       "Diamonds Are Forever                  442.5    34.7                5.8  \n",
       "Die Another Day                       465.4   154.2               17.9  \n",
       "Dr. No                                448.8     7.0                0.6  \n",
       "For Your Eyes Only                    449.4    60.2                NaN  \n",
       "From Russia with Love                 543.8    12.6                1.6  \n",
       "GoldenEye                             518.5    76.9                5.1  \n",
       "Goldfinger                            820.4    18.6                3.2  \n",
       "Licence to Kill                       250.9    56.7                7.9  \n",
       "Live and Let Die                      460.3    30.8                NaN  \n",
       "Moonraker                             535.0    91.5                NaN  \n",
       "Never Say Never Again                 380.0    86.0                NaN  \n",
       "Octopussy                             373.8    53.9                7.8  \n",
       "On Her Majesty's Secret Service       291.5    37.3                0.6  "
      ]
     },
     "execution_count": 37,
     "metadata": {},
     "output_type": "execute_result"
    }
   ],
   "source": [
    "bond.loc[: \"On Her Majesty's Secret Service\"]"
   ]
  },
  {
   "cell_type": "code",
   "execution_count": 38,
   "metadata": {},
   "outputs": [
    {
     "data": {
      "text/html": [
       "<div>\n",
       "<style scoped>\n",
       "    .dataframe tbody tr th:only-of-type {\n",
       "        vertical-align: middle;\n",
       "    }\n",
       "\n",
       "    .dataframe tbody tr th {\n",
       "        vertical-align: top;\n",
       "    }\n",
       "\n",
       "    .dataframe thead th {\n",
       "        text-align: right;\n",
       "    }\n",
       "</style>\n",
       "<table border=\"1\" class=\"dataframe\">\n",
       "  <thead>\n",
       "    <tr style=\"text-align: right;\">\n",
       "      <th></th>\n",
       "      <th>Year</th>\n",
       "      <th>Actor</th>\n",
       "      <th>Director</th>\n",
       "      <th>Box Office</th>\n",
       "      <th>Budget</th>\n",
       "      <th>Bond Actor Salary</th>\n",
       "    </tr>\n",
       "    <tr>\n",
       "      <th>Film</th>\n",
       "      <th></th>\n",
       "      <th></th>\n",
       "      <th></th>\n",
       "      <th></th>\n",
       "      <th></th>\n",
       "      <th></th>\n",
       "    </tr>\n",
       "  </thead>\n",
       "  <tbody>\n",
       "    <tr>\n",
       "      <th>Octopussy</th>\n",
       "      <td>1983</td>\n",
       "      <td>Roger Moore</td>\n",
       "      <td>John Glen</td>\n",
       "      <td>373.8</td>\n",
       "      <td>53.9</td>\n",
       "      <td>7.8</td>\n",
       "    </tr>\n",
       "    <tr>\n",
       "      <th>Moonraker</th>\n",
       "      <td>1979</td>\n",
       "      <td>Roger Moore</td>\n",
       "      <td>Lewis Gilbert</td>\n",
       "      <td>535.0</td>\n",
       "      <td>91.5</td>\n",
       "      <td>NaN</td>\n",
       "    </tr>\n",
       "    <tr>\n",
       "      <th>Never Say Never Again</th>\n",
       "      <td>1983</td>\n",
       "      <td>Sean Connery</td>\n",
       "      <td>Irvin Kershner</td>\n",
       "      <td>380.0</td>\n",
       "      <td>86.0</td>\n",
       "      <td>NaN</td>\n",
       "    </tr>\n",
       "  </tbody>\n",
       "</table>\n",
       "</div>"
      ],
      "text/plain": [
       "                       Year         Actor        Director  Box Office  Budget  \\\n",
       "Film                                                                            \n",
       "Octopussy              1983   Roger Moore       John Glen       373.8    53.9   \n",
       "Moonraker              1979   Roger Moore   Lewis Gilbert       535.0    91.5   \n",
       "Never Say Never Again  1983  Sean Connery  Irvin Kershner       380.0    86.0   \n",
       "\n",
       "                       Bond Actor Salary  \n",
       "Film                                      \n",
       "Octopussy                            7.8  \n",
       "Moonraker                            NaN  \n",
       "Never Say Never Again                NaN  "
      ]
     },
     "execution_count": 38,
     "metadata": {},
     "output_type": "execute_result"
    }
   ],
   "source": [
    "bond.loc[[\"Octopussy\", \"Moonraker\",\"Never Say Never Again\"]]"
   ]
  },
  {
   "cell_type": "code",
   "execution_count": 39,
   "metadata": {},
   "outputs": [
    {
     "name": "stderr",
     "output_type": "stream",
     "text": [
      "C:\\Users\\T15000342\\AppData\\Local\\Continuum\\anaconda3\\lib\\site-packages\\ipykernel_launcher.py:1: FutureWarning: \n",
      "Passing list-likes to .loc or [] with any missing label will raise\n",
      "KeyError in the future, you can use .reindex() as an alternative.\n",
      "\n",
      "See the documentation here:\n",
      "https://pandas.pydata.org/pandas-docs/stable/indexing.html#deprecate-loc-reindex-listlike\n",
      "  \"\"\"Entry point for launching an IPython kernel.\n"
     ]
    },
    {
     "data": {
      "text/html": [
       "<div>\n",
       "<style scoped>\n",
       "    .dataframe tbody tr th:only-of-type {\n",
       "        vertical-align: middle;\n",
       "    }\n",
       "\n",
       "    .dataframe tbody tr th {\n",
       "        vertical-align: top;\n",
       "    }\n",
       "\n",
       "    .dataframe thead th {\n",
       "        text-align: right;\n",
       "    }\n",
       "</style>\n",
       "<table border=\"1\" class=\"dataframe\">\n",
       "  <thead>\n",
       "    <tr style=\"text-align: right;\">\n",
       "      <th></th>\n",
       "      <th>Year</th>\n",
       "      <th>Actor</th>\n",
       "      <th>Director</th>\n",
       "      <th>Box Office</th>\n",
       "      <th>Budget</th>\n",
       "      <th>Bond Actor Salary</th>\n",
       "    </tr>\n",
       "    <tr>\n",
       "      <th>Film</th>\n",
       "      <th></th>\n",
       "      <th></th>\n",
       "      <th></th>\n",
       "      <th></th>\n",
       "      <th></th>\n",
       "      <th></th>\n",
       "    </tr>\n",
       "  </thead>\n",
       "  <tbody>\n",
       "    <tr>\n",
       "      <th>For Your Eyes Only</th>\n",
       "      <td>1981.0</td>\n",
       "      <td>Roger Moore</td>\n",
       "      <td>John Glen</td>\n",
       "      <td>449.4</td>\n",
       "      <td>60.2</td>\n",
       "      <td>NaN</td>\n",
       "    </tr>\n",
       "    <tr>\n",
       "      <th>Live and Let Die</th>\n",
       "      <td>1973.0</td>\n",
       "      <td>Roger Moore</td>\n",
       "      <td>Guy Hamilton</td>\n",
       "      <td>460.3</td>\n",
       "      <td>30.8</td>\n",
       "      <td>NaN</td>\n",
       "    </tr>\n",
       "    <tr>\n",
       "      <th>Gold Bond</th>\n",
       "      <td>NaN</td>\n",
       "      <td>NaN</td>\n",
       "      <td>NaN</td>\n",
       "      <td>NaN</td>\n",
       "      <td>NaN</td>\n",
       "      <td>NaN</td>\n",
       "    </tr>\n",
       "  </tbody>\n",
       "</table>\n",
       "</div>"
      ],
      "text/plain": [
       "                      Year        Actor      Director  Box Office  Budget  \\\n",
       "Film                                                                        \n",
       "For Your Eyes Only  1981.0  Roger Moore     John Glen       449.4    60.2   \n",
       "Live and Let Die    1973.0  Roger Moore  Guy Hamilton       460.3    30.8   \n",
       "Gold Bond              NaN          NaN           NaN         NaN     NaN   \n",
       "\n",
       "                    Bond Actor Salary  \n",
       "Film                                   \n",
       "For Your Eyes Only                NaN  \n",
       "Live and Let Die                  NaN  \n",
       "Gold Bond                         NaN  "
      ]
     },
     "execution_count": 39,
     "metadata": {},
     "output_type": "execute_result"
    }
   ],
   "source": [
    "bond.loc[[\"For Your Eyes Only\", \"Live and Let Die\", \"Gold Bond\"]]"
   ]
  },
  {
   "cell_type": "code",
   "execution_count": 40,
   "metadata": {},
   "outputs": [
    {
     "data": {
      "text/plain": [
       "False"
      ]
     },
     "execution_count": 40,
     "metadata": {},
     "output_type": "execute_result"
    }
   ],
   "source": [
    "\"Gold Bond\" in bond.index"
   ]
  },
  {
   "cell_type": "markdown",
   "metadata": {},
   "source": [
    "# MultiIndex - set more than one columns as the index"
   ]
  },
  {
   "cell_type": "code",
   "execution_count": 42,
   "metadata": {},
   "outputs": [
    {
     "data": {
      "text/html": [
       "<div>\n",
       "<style scoped>\n",
       "    .dataframe tbody tr th:only-of-type {\n",
       "        vertical-align: middle;\n",
       "    }\n",
       "\n",
       "    .dataframe tbody tr th {\n",
       "        vertical-align: top;\n",
       "    }\n",
       "\n",
       "    .dataframe thead th {\n",
       "        text-align: right;\n",
       "    }\n",
       "</style>\n",
       "<table border=\"1\" class=\"dataframe\">\n",
       "  <thead>\n",
       "    <tr style=\"text-align: right;\">\n",
       "      <th></th>\n",
       "      <th>Film</th>\n",
       "      <th>Year</th>\n",
       "      <th>Actor</th>\n",
       "      <th>Director</th>\n",
       "      <th>Box Office</th>\n",
       "      <th>Budget</th>\n",
       "      <th>Bond Actor Salary</th>\n",
       "    </tr>\n",
       "  </thead>\n",
       "  <tbody>\n",
       "    <tr>\n",
       "      <th>0</th>\n",
       "      <td>Dr. No</td>\n",
       "      <td>1962</td>\n",
       "      <td>Sean Connery</td>\n",
       "      <td>Terence Young</td>\n",
       "      <td>448.8</td>\n",
       "      <td>7.0</td>\n",
       "      <td>0.6</td>\n",
       "    </tr>\n",
       "    <tr>\n",
       "      <th>1</th>\n",
       "      <td>From Russia with Love</td>\n",
       "      <td>1963</td>\n",
       "      <td>Sean Connery</td>\n",
       "      <td>Terence Young</td>\n",
       "      <td>543.8</td>\n",
       "      <td>12.6</td>\n",
       "      <td>1.6</td>\n",
       "    </tr>\n",
       "    <tr>\n",
       "      <th>2</th>\n",
       "      <td>Goldfinger</td>\n",
       "      <td>1964</td>\n",
       "      <td>Sean Connery</td>\n",
       "      <td>Guy Hamilton</td>\n",
       "      <td>820.4</td>\n",
       "      <td>18.6</td>\n",
       "      <td>3.2</td>\n",
       "    </tr>\n",
       "  </tbody>\n",
       "</table>\n",
       "</div>"
      ],
      "text/plain": [
       "                    Film  Year         Actor       Director  Box Office  \\\n",
       "0                 Dr. No  1962  Sean Connery  Terence Young       448.8   \n",
       "1  From Russia with Love  1963  Sean Connery  Terence Young       543.8   \n",
       "2             Goldfinger  1964  Sean Connery   Guy Hamilton       820.4   \n",
       "\n",
       "   Budget  Bond Actor Salary  \n",
       "0     7.0                0.6  \n",
       "1    12.6                1.6  \n",
       "2    18.6                3.2  "
      ]
     },
     "execution_count": 42,
     "metadata": {},
     "output_type": "execute_result"
    }
   ],
   "source": [
    "bond = pd.read_csv(\"jamesbond.csv\")\n",
    "bond.head(3)"
   ]
  },
  {
   "cell_type": "code",
   "execution_count": 45,
   "metadata": {},
   "outputs": [
    {
     "data": {
      "text/html": [
       "<div>\n",
       "<style scoped>\n",
       "    .dataframe tbody tr th:only-of-type {\n",
       "        vertical-align: middle;\n",
       "    }\n",
       "\n",
       "    .dataframe tbody tr th {\n",
       "        vertical-align: top;\n",
       "    }\n",
       "\n",
       "    .dataframe thead th {\n",
       "        text-align: right;\n",
       "    }\n",
       "</style>\n",
       "<table border=\"1\" class=\"dataframe\">\n",
       "  <thead>\n",
       "    <tr style=\"text-align: right;\">\n",
       "      <th></th>\n",
       "      <th></th>\n",
       "      <th>Film</th>\n",
       "      <th>Year</th>\n",
       "      <th>Box Office</th>\n",
       "      <th>Budget</th>\n",
       "      <th>Bond Actor Salary</th>\n",
       "    </tr>\n",
       "    <tr>\n",
       "      <th>Actor</th>\n",
       "      <th>Director</th>\n",
       "      <th></th>\n",
       "      <th></th>\n",
       "      <th></th>\n",
       "      <th></th>\n",
       "      <th></th>\n",
       "    </tr>\n",
       "  </thead>\n",
       "  <tbody>\n",
       "    <tr>\n",
       "      <th>Roger Moore</th>\n",
       "      <th>John Glen</th>\n",
       "      <td>A View to a Kill</td>\n",
       "      <td>1985</td>\n",
       "      <td>275.2</td>\n",
       "      <td>54.5</td>\n",
       "      <td>9.1</td>\n",
       "    </tr>\n",
       "    <tr>\n",
       "      <th>Daniel Craig</th>\n",
       "      <th>Martin Campbell</th>\n",
       "      <td>Casino Royale</td>\n",
       "      <td>2006</td>\n",
       "      <td>581.5</td>\n",
       "      <td>145.3</td>\n",
       "      <td>3.3</td>\n",
       "    </tr>\n",
       "    <tr>\n",
       "      <th>David Niven</th>\n",
       "      <th>Ken Hughes</th>\n",
       "      <td>Casino Royale</td>\n",
       "      <td>1967</td>\n",
       "      <td>315.0</td>\n",
       "      <td>85.0</td>\n",
       "      <td>NaN</td>\n",
       "    </tr>\n",
       "  </tbody>\n",
       "</table>\n",
       "</div>"
      ],
      "text/plain": [
       "                                          Film  Year  Box Office  Budget  \\\n",
       "Actor        Director                                                      \n",
       "Roger Moore  John Glen        A View to a Kill  1985       275.2    54.5   \n",
       "Daniel Craig Martin Campbell     Casino Royale  2006       581.5   145.3   \n",
       "David Niven  Ken Hughes          Casino Royale  1967       315.0    85.0   \n",
       "\n",
       "                              Bond Actor Salary  \n",
       "Actor        Director                            \n",
       "Roger Moore  John Glen                      9.1  \n",
       "Daniel Craig Martin Campbell                3.3  \n",
       "David Niven  Ken Hughes                     NaN  "
      ]
     },
     "execution_count": 45,
     "metadata": {},
     "output_type": "execute_result"
    }
   ],
   "source": [
    "bond = bond_multi.set_index(['Actor','Director'])\n",
    "bond.head(3)"
   ]
  },
  {
   "cell_type": "code",
   "execution_count": 46,
   "metadata": {},
   "outputs": [
    {
     "data": {
      "text/plain": [
       "MultiIndex(levels=[['Daniel Craig', 'David Niven', 'George Lazenby', 'Pierce Brosnan', 'Roger Moore', 'Sean Connery', 'Timothy Dalton'], ['Guy Hamilton', 'Irvin Kershner', 'John Glen', 'Ken Hughes', 'Lee Tamahori', 'Lewis Gilbert', 'Marc Forster', 'Martin Campbell', 'Michael Apted', 'Peter R. Hunt', 'Roger Spottiswoode', 'Sam Mendes', 'Terence Young']],\n",
       "           labels=[[4, 0, 1, 5, 3, 5, 4, 5, 3, 5, 6, 4, 4, 5, 4, 2, 0, 0, 0, 6, 4, 4, 3, 5, 3, 5], [2, 7, 3, 0, 4, 12, 2, 12, 7, 0, 2, 0, 5, 1, 2, 9, 6, 11, 11, 2, 0, 5, 8, 12, 10, 5]],\n",
       "           names=['Actor', 'Director'])"
      ]
     },
     "execution_count": 46,
     "metadata": {},
     "output_type": "execute_result"
    }
   ],
   "source": [
    "bond.index"
   ]
  },
  {
   "cell_type": "code",
   "execution_count": 55,
   "metadata": {},
   "outputs": [
    {
     "data": {
      "text/plain": [
       "Index(['Daniel Craig', 'David Niven', 'George Lazenby', 'Pierce Brosnan',\n",
       "       'Roger Moore', 'Sean Connery', 'Timothy Dalton'],\n",
       "      dtype='object', name='Actor')"
      ]
     },
     "execution_count": 55,
     "metadata": {},
     "output_type": "execute_result"
    }
   ],
   "source": [
    "bond.index.levels[0]"
   ]
  },
  {
   "cell_type": "code",
   "execution_count": 56,
   "metadata": {},
   "outputs": [
    {
     "data": {
      "text/html": [
       "<div>\n",
       "<style scoped>\n",
       "    .dataframe tbody tr th:only-of-type {\n",
       "        vertical-align: middle;\n",
       "    }\n",
       "\n",
       "    .dataframe tbody tr th {\n",
       "        vertical-align: top;\n",
       "    }\n",
       "\n",
       "    .dataframe thead th {\n",
       "        text-align: right;\n",
       "    }\n",
       "</style>\n",
       "<table border=\"1\" class=\"dataframe\">\n",
       "  <thead>\n",
       "    <tr style=\"text-align: right;\">\n",
       "      <th></th>\n",
       "      <th>Actor</th>\n",
       "      <th>Director</th>\n",
       "      <th>Film</th>\n",
       "      <th>Year</th>\n",
       "      <th>Box Office</th>\n",
       "      <th>Budget</th>\n",
       "      <th>Bond Actor Salary</th>\n",
       "    </tr>\n",
       "  </thead>\n",
       "  <tbody>\n",
       "    <tr>\n",
       "      <th>0</th>\n",
       "      <td>Roger Moore</td>\n",
       "      <td>John Glen</td>\n",
       "      <td>A View to a Kill</td>\n",
       "      <td>1985</td>\n",
       "      <td>275.2</td>\n",
       "      <td>54.5</td>\n",
       "      <td>9.1</td>\n",
       "    </tr>\n",
       "    <tr>\n",
       "      <th>1</th>\n",
       "      <td>Daniel Craig</td>\n",
       "      <td>Martin Campbell</td>\n",
       "      <td>Casino Royale</td>\n",
       "      <td>2006</td>\n",
       "      <td>581.5</td>\n",
       "      <td>145.3</td>\n",
       "      <td>3.3</td>\n",
       "    </tr>\n",
       "    <tr>\n",
       "      <th>2</th>\n",
       "      <td>David Niven</td>\n",
       "      <td>Ken Hughes</td>\n",
       "      <td>Casino Royale</td>\n",
       "      <td>1967</td>\n",
       "      <td>315.0</td>\n",
       "      <td>85.0</td>\n",
       "      <td>NaN</td>\n",
       "    </tr>\n",
       "  </tbody>\n",
       "</table>\n",
       "</div>"
      ],
      "text/plain": [
       "          Actor         Director              Film  Year  Box Office  Budget  \\\n",
       "0   Roger Moore        John Glen  A View to a Kill  1985       275.2    54.5   \n",
       "1  Daniel Craig  Martin Campbell     Casino Royale  2006       581.5   145.3   \n",
       "2   David Niven       Ken Hughes     Casino Royale  1967       315.0    85.0   \n",
       "\n",
       "   Bond Actor Salary  \n",
       "0                9.1  \n",
       "1                3.3  \n",
       "2                NaN  "
      ]
     },
     "execution_count": 56,
     "metadata": {},
     "output_type": "execute_result"
    }
   ],
   "source": [
    "bond.reset_index().head(3)"
   ]
  },
  {
   "cell_type": "markdown",
   "metadata": {},
   "source": [
    "## Retrieve Row(s) by Index Position with `iloc`"
   ]
  },
  {
   "cell_type": "code",
   "execution_count": null,
   "metadata": {},
   "outputs": [],
   "source": [
    "bond = pd.read_csv(\"jamesbond.csv\")\n",
    "bond.head(3)"
   ]
  },
  {
   "cell_type": "code",
   "execution_count": null,
   "metadata": {},
   "outputs": [],
   "source": [
    "bond.loc[15]"
   ]
  },
  {
   "cell_type": "code",
   "execution_count": null,
   "metadata": {},
   "outputs": [],
   "source": [
    "bond.iloc[15]"
   ]
  },
  {
   "cell_type": "code",
   "execution_count": null,
   "metadata": {},
   "outputs": [],
   "source": [
    "bond.iloc[[15, 20]]"
   ]
  },
  {
   "cell_type": "code",
   "execution_count": null,
   "metadata": {},
   "outputs": [],
   "source": [
    "bond.iloc[:4]"
   ]
  },
  {
   "cell_type": "code",
   "execution_count": null,
   "metadata": {},
   "outputs": [],
   "source": [
    "bond.iloc[4:8]"
   ]
  },
  {
   "cell_type": "code",
   "execution_count": null,
   "metadata": {},
   "outputs": [],
   "source": [
    "bond.iloc[20:]"
   ]
  },
  {
   "cell_type": "code",
   "execution_count": null,
   "metadata": {},
   "outputs": [],
   "source": [
    "bond = pd.read_csv(\"jamesbond.csv\", index_col = \"Film\")\n",
    "bond.sort_index(inplace = True)\n",
    "bond.head(3)"
   ]
  },
  {
   "cell_type": "code",
   "execution_count": null,
   "metadata": {},
   "outputs": [],
   "source": [
    "bond.iloc[[5, 10, 15, 20]]"
   ]
  },
  {
   "cell_type": "markdown",
   "metadata": {},
   "source": [
    "## Set New Values for a Specific Cell or Row"
   ]
  },
  {
   "cell_type": "code",
   "execution_count": null,
   "metadata": {},
   "outputs": [],
   "source": [
    "bond = pd.read_csv(\"jamesbond.csv\", index_col = \"Film\")\n",
    "bond.sort_index(inplace = True)\n",
    "bond.head(3)"
   ]
  },
  {
   "cell_type": "code",
   "execution_count": null,
   "metadata": {},
   "outputs": [],
   "source": [
    "bond.loc[\"Dr. No\"]"
   ]
  },
  {
   "cell_type": "code",
   "execution_count": null,
   "metadata": {},
   "outputs": [],
   "source": [
    "bond.loc[\"Dr. No\"] = \"Sir Sean Connery\""
   ]
  },
  {
   "cell_type": "code",
   "execution_count": null,
   "metadata": {
    "scrolled": true
   },
   "outputs": [],
   "source": [
    "bond.loc[\"Dr. No\"]"
   ]
  },
  {
   "cell_type": "code",
   "execution_count": null,
   "metadata": {},
   "outputs": [],
   "source": [
    "bond.loc[\"Dr. No\"][\"Year\"] = 2000"
   ]
  },
  {
   "cell_type": "code",
   "execution_count": null,
   "metadata": {},
   "outputs": [],
   "source": [
    "bond.loc[\"Dr. No\"]"
   ]
  },
  {
   "cell_type": "code",
   "execution_count": null,
   "metadata": {},
   "outputs": [],
   "source": [
    "bond.loc[\"Dr. No\"][\"Year\",\n",
    "                   \"Director\",\n",
    "                   \"Box Office\",\n",
    "                   \"Budget\",\n",
    "                   \"Bond Actor Salary\"] = [1962,\n",
    "                                           'Terence Young',\n",
    "                                           448800000,\n",
    "                                           7000000,\n",
    "                                           600000]"
   ]
  },
  {
   "cell_type": "code",
   "execution_count": null,
   "metadata": {},
   "outputs": [],
   "source": [
    "bond.loc[\"Dr. No\"]"
   ]
  },
  {
   "cell_type": "markdown",
   "metadata": {},
   "source": [
    "## Set Multiple Values in `DataFrame`"
   ]
  },
  {
   "cell_type": "code",
   "execution_count": null,
   "metadata": {},
   "outputs": [],
   "source": [
    "bond = pd.read_csv(\"jamesbond.csv\", index_col = \"Film\")\n",
    "bond.sort_index(inplace = True)\n",
    "bond.head(3)"
   ]
  },
  {
   "cell_type": "code",
   "execution_count": null,
   "metadata": {},
   "outputs": [],
   "source": [
    "mask = bond[\"Actor\"] == \"Sean Connery\""
   ]
  },
  {
   "cell_type": "code",
   "execution_count": null,
   "metadata": {},
   "outputs": [],
   "source": [
    "bond.loc[mask,\"Actor\"]"
   ]
  },
  {
   "cell_type": "code",
   "execution_count": null,
   "metadata": {},
   "outputs": [],
   "source": [
    "bond.loc[mask,\"Actor\"] = \"Sir Sean Connery\""
   ]
  },
  {
   "cell_type": "code",
   "execution_count": null,
   "metadata": {},
   "outputs": [],
   "source": [
    "bond.loc[mask]"
   ]
  },
  {
   "cell_type": "code",
   "execution_count": null,
   "metadata": {},
   "outputs": [],
   "source": [
    "bond[\"Actor\"] == \"Roger Moore\""
   ]
  },
  {
   "cell_type": "code",
   "execution_count": null,
   "metadata": {},
   "outputs": [],
   "source": [
    "bond[bond[\"Actor\"] == \"Roger Moore\"]"
   ]
  },
  {
   "cell_type": "code",
   "execution_count": null,
   "metadata": {},
   "outputs": [],
   "source": [
    "bond.loc[bond[\"Actor\"] == \"Roger Moore\"]"
   ]
  },
  {
   "cell_type": "markdown",
   "metadata": {},
   "source": [
    "## Rename Index Labels or Columns in a `DataFrame`"
   ]
  },
  {
   "cell_type": "code",
   "execution_count": null,
   "metadata": {},
   "outputs": [],
   "source": [
    "bond = pd.read_csv(\"jamesbond.csv\", index_col = \"Film\")\n",
    "bond.sort_index(inplace = True)\n",
    "bond.head(3)"
   ]
  },
  {
   "cell_type": "code",
   "execution_count": null,
   "metadata": {},
   "outputs": [],
   "source": [
    "bond.rename(columns = {\"Year\" : \"Release Date\", \"Box Office\" : \"Revenue\"}, inplace = True)"
   ]
  },
  {
   "cell_type": "code",
   "execution_count": null,
   "metadata": {},
   "outputs": [],
   "source": [
    "bond.head(1)"
   ]
  },
  {
   "cell_type": "code",
   "execution_count": null,
   "metadata": {},
   "outputs": [],
   "source": [
    "bond.rename(index = {\"Dr. No\" : \"Doctor No\", \n",
    "                     \"GoldenEye\" : \"Golden Eye\",\n",
    "                    \"The World Is Not Enough\" : \"Best Bond Movie Ever\"}, inplace = True)"
   ]
  },
  {
   "cell_type": "code",
   "execution_count": null,
   "metadata": {},
   "outputs": [],
   "source": [
    "bond.head()"
   ]
  },
  {
   "cell_type": "code",
   "execution_count": null,
   "metadata": {},
   "outputs": [],
   "source": [
    "bond.loc[\"Best Bond Movie Ever\"]"
   ]
  },
  {
   "cell_type": "code",
   "execution_count": null,
   "metadata": {},
   "outputs": [],
   "source": [
    "bond.head(1)"
   ]
  },
  {
   "cell_type": "code",
   "execution_count": null,
   "metadata": {},
   "outputs": [],
   "source": [
    "bond.columns = [\"Year of Release\", \"Actor\", \"Director\", \"Gross\", \"Cost\", \"Salary\"]"
   ]
  },
  {
   "cell_type": "code",
   "execution_count": null,
   "metadata": {},
   "outputs": [],
   "source": [
    "bond.head(3)"
   ]
  },
  {
   "cell_type": "markdown",
   "metadata": {},
   "source": [
    "## Delete Rows or Columns from a `DataFrame`"
   ]
  },
  {
   "cell_type": "code",
   "execution_count": null,
   "metadata": {},
   "outputs": [],
   "source": [
    "bond = pd.read_csv(\"jamesbond.csv\", index_col = \"Film\")\n",
    "bond.sort_index(inplace = True)\n",
    "bond.head(3)"
   ]
  },
  {
   "cell_type": "code",
   "execution_count": null,
   "metadata": {},
   "outputs": [],
   "source": [
    "bond.drop(labels = [\"Box Office\", \"Bond Actor Salary\", \"Actor\"], axis = \"columns\", inplace = True)"
   ]
  },
  {
   "cell_type": "code",
   "execution_count": null,
   "metadata": {},
   "outputs": [],
   "source": [
    "bond.head()"
   ]
  },
  {
   "cell_type": "code",
   "execution_count": null,
   "metadata": {},
   "outputs": [],
   "source": [
    "bond.drop(\"Casino Royale\", inplace = True)"
   ]
  },
  {
   "cell_type": "code",
   "execution_count": null,
   "metadata": {},
   "outputs": [],
   "source": [
    "bond.head()"
   ]
  },
  {
   "cell_type": "code",
   "execution_count": null,
   "metadata": {},
   "outputs": [],
   "source": [
    "bond = pd.read_csv(\"jamesbond.csv\", index_col = \"Film\")\n",
    "bond.sort_index(inplace = True)"
   ]
  },
  {
   "cell_type": "code",
   "execution_count": null,
   "metadata": {},
   "outputs": [],
   "source": [
    "actor = bond.pop(\"Actor\")"
   ]
  },
  {
   "cell_type": "code",
   "execution_count": null,
   "metadata": {},
   "outputs": [],
   "source": [
    "type(actor)"
   ]
  },
  {
   "cell_type": "code",
   "execution_count": null,
   "metadata": {},
   "outputs": [],
   "source": [
    "del bond[\"Director\"]"
   ]
  },
  {
   "cell_type": "code",
   "execution_count": null,
   "metadata": {},
   "outputs": [],
   "source": [
    "del bond[\"Year\"]"
   ]
  }
 ],
 "metadata": {
  "kernelspec": {
   "display_name": "Python 3",
   "language": "python",
   "name": "python3"
  },
  "language_info": {
   "codemirror_mode": {
    "name": "ipython",
    "version": 3
   },
   "file_extension": ".py",
   "mimetype": "text/x-python",
   "name": "python",
   "nbconvert_exporter": "python",
   "pygments_lexer": "ipython3",
   "version": "3.6.5"
  }
 },
 "nbformat": 4,
 "nbformat_minor": 2
}
