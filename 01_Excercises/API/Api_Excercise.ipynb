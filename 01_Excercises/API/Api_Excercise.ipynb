{
  "nbformat": 4,
  "nbformat_minor": 0,
  "metadata": {
    "colab": {
      "name": "Api Excercise.ipynb",
      "provenance": [],
      "collapsed_sections": []
    },
    "kernelspec": {
      "name": "python3",
      "display_name": "Python 3"
    },
    "language_info": {
      "name": "python"
    }
  },
  "cells": [
    {
      "cell_type": "markdown",
      "source": [
        "<div dir=\"rtl\">\n",
        "\n",
        "# חלק ראשון: POST"
      ],
      "metadata": {
        "id": "GWwoAHvXGL6M"
      }
    },
    {
      "cell_type": "markdown",
      "source": [
        "<div dir=\"rtl\">\n",
        "\n",
        "# 1.האם מספר חשבון 771641 רכש מניות של אפל? (שם המניה הוא aapl)"
      ],
      "metadata": {
        "id": "E_xuKn-SuE45"
      }
    },
    {
      "cell_type": "markdown",
      "source": [
        "<div dir=\"rtl\">\n",
        "\n",
        "# 2. מהו סכום הרכישה הממוצע של החשבון?"
      ],
      "metadata": {
        "id": "PusIdp1I8G7D"
      }
    },
    {
      "cell_type": "markdown",
      "source": [
        "<div dir=\"rtl\">\n",
        "\n",
        "# 3. מהו סכום המכירה הממוצע של החשבון?"
      ],
      "metadata": {
        "id": "oY4u5W608YbU"
      }
    },
    {
      "cell_type": "markdown",
      "source": [
        "<div dir=\"rtl\">\n",
        "\n",
        "# 4. מהו שם האדם שבבעלותו החשבון? האם יש לו יותר מחשבון אחד?"
      ],
      "metadata": {
        "id": "iZs1Qy4Q9ETC"
      }
    },
    {
      "cell_type": "markdown",
      "source": [
        "<div dir=\"rtl\">\n",
        "\n",
        "# 5. שאלת אתגר: עכשיו כשיש ברשותכם את כל החשבונות של המשקיע/ה, חשבו מחדש את סכום הקניה הממוצע ואת סכום הרכישה הממוצע.\n",
        "שימו לב לחשב אותו לפי היסטוריית הפעולות של כל החשבונות.\n",
        "\n",
        "**רמז**: הסינטקס לשליפת in בapi הזה הוא: \n",
        "\n",
        "`field' : {'$in' : [value1, value2, value3]}'`"
      ],
      "metadata": {
        "id": "NM4apYo-9ZNt"
      }
    },
    {
      "cell_type": "markdown",
      "source": [
        "<div dir=\"rtl\">\n",
        "\n",
        "# חלק שני: GET"
      ],
      "metadata": {
        "id": "coG2c55oGUhu"
      }
    },
    {
      "cell_type": "markdown",
      "source": [
        "<div dir=\"rtl\">\n",
        "\n",
        "# 1. לרשותכם API ציטוטים מעוררי השראה. בצעו בקשה וקבלו JSON עם משפט לחיים.\n",
        "\n",
        "`https://zenquotes.io/api/random/`"
      ],
      "metadata": {
        "id": "ALqAmIP-ImWt"
      }
    }
  ]
}