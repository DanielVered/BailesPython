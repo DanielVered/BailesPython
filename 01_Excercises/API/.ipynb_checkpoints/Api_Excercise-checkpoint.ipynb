{
 "cells": [
  {
   "cell_type": "markdown",
   "metadata": {
    "id": "GWwoAHvXGL6M"
   },
   "source": [
    "<div dir=\"rtl\">\n",
    "\n",
    "# חלק ראשון: POST"
   ]
  },
  {
   "cell_type": "markdown",
   "metadata": {
    "id": "E_xuKn-SuE45"
   },
   "source": [
    "<div dir=\"rtl\">\n",
    "\n",
    "# 1.האם מספר חשבון 771641 רכש מניות של אפל? (שם המניה הוא aapl)"
   ]
  },
  {
   "cell_type": "markdown",
   "metadata": {
    "id": "PusIdp1I8G7D"
   },
   "source": [
    "<div dir=\"rtl\">\n",
    "\n",
    "# 2. מהו סכום הרכישה הממוצע של החשבון?"
   ]
  },
  {
   "cell_type": "markdown",
   "metadata": {
    "id": "oY4u5W608YbU"
   },
   "source": [
    "<div dir=\"rtl\">\n",
    "\n",
    "# 3. מהו סכום המכירה הממוצע של החשבון?"
   ]
  },
  {
   "cell_type": "markdown",
   "metadata": {
    "id": "iZs1Qy4Q9ETC"
   },
   "source": [
    "<div dir=\"rtl\">\n",
    "\n",
    "# 4. מהו שם האדם שבבעלותו החשבון? האם יש לו יותר מחשבון אחד?"
   ]
  },
  {
   "cell_type": "markdown",
   "metadata": {
    "id": "NM4apYo-9ZNt"
   },
   "source": [
    "<div dir=\"rtl\">\n",
    "\n",
    "# 5. שאלת אתגר: עכשיו כשיש ברשותכם את כל החשבונות של המשקיע/ה, חשבו מחדש את סכום הקניה הממוצע ואת סכום הרכישה הממוצע.\n",
    "שימו לב לחשב אותו לפי היסטוריית הפעולות של כל החשבונות.\n",
    "\n",
    "**רמז**: הסינטקס לשליפת in בapi הזה הוא: \n",
    "\n",
    "`field' : {'$in' : [value1, value2, value3]}'`"
   ]
  },
  {
   "cell_type": "markdown",
   "metadata": {
    "id": "coG2c55oGUhu"
   },
   "source": [
    "<div dir=\"rtl\">\n",
    "\n",
    "# חלק שני: GET"
   ]
  },
  {
   "cell_type": "markdown",
   "metadata": {
    "id": "ALqAmIP-ImWt"
   },
   "source": [
    "<div dir=\"rtl\">\n",
    "\n",
    "# 1. לרשותכם API ציטוטים מעוררי השראה. בצעו בקשה וקבלו JSON עם משפט לחיים.\n",
    "\n",
    "`https://zenquotes.io/api/random/`"
   ]
  }
 ],
 "metadata": {
  "colab": {
   "collapsed_sections": [],
   "name": "Api Excercise.ipynb",
   "provenance": []
  },
  "kernelspec": {
   "display_name": "Python 3",
   "language": "python",
   "name": "python3"
  },
  "language_info": {
   "codemirror_mode": {
    "name": "ipython",
    "version": 3
   },
   "file_extension": ".py",
   "mimetype": "text/x-python",
   "name": "python",
   "nbconvert_exporter": "python",
   "pygments_lexer": "ipython3",
   "version": "3.8.5"
  }
 },
 "nbformat": 4,
 "nbformat_minor": 1
}
