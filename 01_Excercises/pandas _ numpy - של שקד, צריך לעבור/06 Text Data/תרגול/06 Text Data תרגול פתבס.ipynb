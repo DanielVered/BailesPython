{
 "cells": [
  {
   "cell_type": "code",
   "execution_count": null,
   "metadata": {},
   "outputs": [],
   "source": [
    "import pandas as pd\n",
    "import numpy as np"
   ]
  },
  {
   "cell_type": "markdown",
   "metadata": {},
   "source": [
    "<div dir = \"rtl\">\n",
    "    \n",
    "### קראו את הקובץ 'titanic_data.csc' לתוך משתנה  titanic.\n",
    "###  הגדירו את העמודה 'id' להיות האינדקס\n",
    "\n"
   ]
  },
  {
   "cell_type": "code",
   "execution_count": null,
   "metadata": {},
   "outputs": [],
   "source": [
    "titanic = pd.read_csv(\"titanic_data.csv\")\n",
    "titanic = titanic.set_index(\"id\")\n",
    "titanic.head()"
   ]
  },
  {
   "cell_type": "markdown",
   "metadata": {},
   "source": [
    "<div dir = \"rtl\">\n",
    "    \n",
    "### שנו את עמודת 'name' להיות באותיות גדולות ומסוג category:\n",
    "\n"
   ]
  },
  {
   "cell_type": "code",
   "execution_count": null,
   "metadata": {},
   "outputs": [],
   "source": [
    "titanic[\"sex\"] = titanic[\"sex\"].str.upper().astype(\"category\")\n",
    "titanic.head()"
   ]
  },
  {
   "cell_type": "markdown",
   "metadata": {},
   "source": [
    "<div dir = \"rtl\">\n",
    "    \n",
    "### עבור נוסעים שגילם גדול מ 40, מצאו את אורך שמם הממוצע:\n",
    "\n"
   ]
  },
  {
   "cell_type": "code",
   "execution_count": null,
   "metadata": {
    "scrolled": true
   },
   "outputs": [],
   "source": [
    "titanic[titanic[\"age\"] >40][\"name\"].str.len().mean()"
   ]
  },
  {
   "cell_type": "markdown",
   "metadata": {},
   "source": [
    "<div dir = \"rtl\">\n",
    "    \n",
    "### הוסיפו שדה שנקרא is_special  שערכו יהיה True אם לאדם יש מעל ילד אחד, מעל 2 אחים וגם המשקל שלו מעל 60. \n",
    "\n"
   ]
  },
  {
   "cell_type": "code",
   "execution_count": null,
   "metadata": {
    "scrolled": true
   },
   "outputs": [],
   "source": [
    "def is_special(row):\n",
    "    if row[\"num_children\"] > 1 and row[\"num_brothers\"] > 2 and row[\"weight\"] > 60:\n",
    "        return True\n",
    "    return False\n",
    "titanic[\"is_special\"] = titanic.apply(is_special, axis =1)\n",
    "titanic.head()"
   ]
  },
  {
   "cell_type": "markdown",
   "metadata": {},
   "source": [
    "<div dir = \"rtl\">\n",
    "    \n",
    "### הציגו רק את הערכים שערך עמודת is_special הוא True וגם עמודת card_id הוא שדה מספרי.\n"
   ]
  },
  {
   "cell_type": "code",
   "execution_count": null,
   "metadata": {
    "scrolled": true
   },
   "outputs": [],
   "source": [
    "titanic[(titanic[\"is_special\"] == False) & (titanic[\"card_id\"].str.isnumeric()) ] "
   ]
  },
  {
   "cell_type": "markdown",
   "metadata": {},
   "source": [
    "<div dir = \"rtl\">\n",
    "    \n",
    "### הציגו רק את הערכים שערך עמודת is_special הוא True וגם עמודת card_id הוא לא שדה מספרי.\n"
   ]
  },
  {
   "cell_type": "code",
   "execution_count": null,
   "metadata": {
    "scrolled": true
   },
   "outputs": [],
   "source": [
    "titanic[(titanic[\"is_special\"] == False) & (~titanic[\"card_id\"].str.isnumeric()) ] "
   ]
  },
  {
   "cell_type": "markdown",
   "metadata": {},
   "source": [
    "<div dir = \"rtl\">\n",
    "    \n",
    "### שנו את עמודת name כך שהיא שימחקו הביטויים Mr.  או Mrs.  או Miss. \n"
   ]
  },
  {
   "cell_type": "code",
   "execution_count": null,
   "metadata": {
    "scrolled": true
   },
   "outputs": [],
   "source": [
    "titanic[\"name\"] = titanic[\"name\"].str.replace(\"Mr.\", \"\")\n",
    "titanic[\"name\"] = titanic[\"name\"].str.replace(\"Mrs.\", \"\")\n",
    "titanic[\"name\"] = titanic[\"name\"].str.replace(\"Miss.\", \"\")\n",
    "titanic[\"name\"].head()"
   ]
  },
  {
   "cell_type": "markdown",
   "metadata": {},
   "source": [
    "<div dir = \"rtl\">\n",
    "    \n",
    "###  ספרו את כמות הפעמים שהאות 'r' מופיעה:\n"
   ]
  },
  {
   "cell_type": "code",
   "execution_count": null,
   "metadata": {},
   "outputs": [],
   "source": [
    "titanic[\"name\"].str.count(\"r\").sum()"
   ]
  },
  {
   "cell_type": "markdown",
   "metadata": {},
   "source": [
    "<div dir = \"rtl\">\n",
    "    \n",
    "###  כמה אנשים יש שאורך השם שלהם גדול מפי 1.5 מהממוצע? \n"
   ]
  },
  {
   "cell_type": "code",
   "execution_count": null,
   "metadata": {},
   "outputs": [],
   "source": [
    "avg_letters = titanic[\"name\"].str.len().mean() * 1.5\n",
    "len(titanic[titanic[\"name\"].str.len() > avg_letters])"
   ]
  },
  {
   "cell_type": "markdown",
   "metadata": {},
   "source": [
    "<div dir = \"rtl\">\n",
    "    \n",
    "###  כמה אנשים יש שהשם שלהם מסתיים באות r? \n"
   ]
  },
  {
   "cell_type": "code",
   "execution_count": null,
   "metadata": {
    "scrolled": true
   },
   "outputs": [],
   "source": [
    "len(titanic[titanic[\"name\"].str.endswith(\"r\")])"
   ]
  },
  {
   "cell_type": "markdown",
   "metadata": {},
   "source": [
    "<div dir = \"rtl\">\n",
    "    \n",
    "###  כמה אנשים יש שהשם שלהם מתחיל באות m/M? \n"
   ]
  },
  {
   "cell_type": "code",
   "execution_count": null,
   "metadata": {},
   "outputs": [],
   "source": [
    "len(titanic[titanic[\"name\"].str.lower().str.startswith(\"m\")])"
   ]
  },
  {
   "cell_type": "markdown",
   "metadata": {},
   "source": [
    "<div dir = \"rtl\">\n",
    "    \n",
    "### בונוס : הוסיפו שדה שנקרא word_counter שסופר כמות מילים בעמודת 'name'. \n"
   ]
  },
  {
   "cell_type": "code",
   "execution_count": null,
   "metadata": {
    "scrolled": true
   },
   "outputs": [],
   "source": [
    "titanic[\"word_counter\"] = titanic[\"name\"].str.split().apply(lambda x:len(x))\n",
    "titanic.head()"
   ]
  }
 ],
 "metadata": {
  "kernelspec": {
   "display_name": "Python 3",
   "language": "python",
   "name": "python3"
  },
  "language_info": {
   "codemirror_mode": {
    "name": "ipython",
    "version": 3
   },
   "file_extension": ".py",
   "mimetype": "text/x-python",
   "name": "python",
   "nbconvert_exporter": "python",
   "pygments_lexer": "ipython3",
   "version": "3.6.5"
  }
 },
 "nbformat": 4,
 "nbformat_minor": 2
}
