{
 "cells": [
  {
   "cell_type": "markdown",
   "metadata": {},
   "source": [
    "<img src=\"Images\\Slide1.PNG\" />"
   ]
  },
  {
   "cell_type": "code",
   "execution_count": null,
   "metadata": {},
   "outputs": [],
   "source": [
    "import pandas as pd"
   ]
  },
  {
   "cell_type": "markdown",
   "metadata": {},
   "source": [
    "<img src=\"Images\\Slide2.PNG\" />"
   ]
  },
  {
   "cell_type": "code",
   "execution_count": null,
   "metadata": {},
   "outputs": [],
   "source": [
    "bigmac = pd.read_csv(\"bigmac.csv\", parse_dates = [\"Date\"]) #notice we parsed the dates\n",
    "bigmac.head(3)"
   ]
  },
  {
   "cell_type": "code",
   "execution_count": null,
   "metadata": {
    "scrolled": true
   },
   "outputs": [],
   "source": [
    "bigmac.info()\n",
    "#bigmac.dtypes"
   ]
  },
  {
   "cell_type": "markdown",
   "metadata": {},
   "source": [
    "<img src=\"Images\\Slide3.PNG\" />"
   ]
  },
  {
   "cell_type": "markdown",
   "metadata": {},
   "source": [
    "<img src=\"Images\\Slide4.PNG\" />"
   ]
  },
  {
   "cell_type": "code",
   "execution_count": null,
   "metadata": {},
   "outputs": [],
   "source": []
  },
  {
   "cell_type": "code",
   "execution_count": null,
   "metadata": {},
   "outputs": [],
   "source": [
    "#bigmac.set_index(keys = [\"Date\", \"Country\"])\n",
    "#bigmac.set_index(keys = [\"Country\", \"Date\"])\n",
    "#bigmac[\"Country\"].value_counts()"
   ]
  },
  {
   "cell_type": "code",
   "execution_count": null,
   "metadata": {},
   "outputs": [],
   "source": [
    "bigmac.set_index(keys = [\"Date\", \"Country\"], inplace = True)\n",
    "bigmac.head(3)"
   ]
  },
  {
   "cell_type": "markdown",
   "metadata": {},
   "source": [
    "<div class = \"alert alert-block alert-info\">\n",
    "Now let's sort the index, notice how it orders both indices\n"
   ]
  },
  {
   "cell_type": "code",
   "execution_count": null,
   "metadata": {},
   "outputs": [],
   "source": [
    "bigmac.sort_index(inplace = True) # add inplace = True"
   ]
  },
  {
   "cell_type": "markdown",
   "metadata": {},
   "source": [
    "<div class = \"alert alert-block alert-info\">\n",
    "By the way, we can do all sorts of interesting things with the sort_index() method"
   ]
  },
  {
   "cell_type": "code",
   "execution_count": null,
   "metadata": {},
   "outputs": [],
   "source": [
    "bigmac.sort_index(ascending = [False, True]) \n",
    "bigmac.sort_index(level = 1, ascending = True) # levels start at 0"
   ]
  },
  {
   "cell_type": "code",
   "execution_count": null,
   "metadata": {},
   "outputs": [],
   "source": [
    "bigmac.head(3)"
   ]
  },
  {
   "cell_type": "markdown",
   "metadata": {},
   "source": [
    "<div class = \"alert alert-block alert-info\">\n",
    "Now let's check out the attributes - look what happens when we check our index and type"
   ]
  },
  {
   "cell_type": "code",
   "execution_count": null,
   "metadata": {},
   "outputs": [],
   "source": [
    "#bigmac.index\n",
    "#bigmac.index.names\n",
    "type(bigmac.index)"
   ]
  },
  {
   "cell_type": "markdown",
   "metadata": {},
   "source": [
    "<div class = \"alert alert-block alert-info\">\n",
    "And what if we try to access the first index?"
   ]
  },
  {
   "cell_type": "code",
   "execution_count": null,
   "metadata": {},
   "outputs": [],
   "source": [
    "bigmac.index[0]\n",
    "#Notice it's a tuple consisting of a timestamp and a string"
   ]
  },
  {
   "cell_type": "markdown",
   "metadata": {},
   "source": [
    "<img src=\"Images\\Slide5.PNG\" />"
   ]
  },
  {
   "cell_type": "markdown",
   "metadata": {},
   "source": [
    "<div class = \"alert alert-block alert-info\">\n",
    "The next method we'll learn is the get_level_values, which give us the index at the level we choose"
   ]
  },
  {
   "cell_type": "code",
   "execution_count": null,
   "metadata": {},
   "outputs": [],
   "source": [
    "#bigmac.index.get_level_values(0)\n",
    "#bigmac.index.get_level_values(\"Date\")\n",
    "#bigmac.index.get_level_values(1)\n",
    "#bigmac.index.get_level_values(\"Country\")\n",
    "#bigmac.index.get_level_values(2)"
   ]
  },
  {
   "cell_type": "markdown",
   "metadata": {
    "collapsed": true
   },
   "source": [
    "<div class = \"alert alert-block alert-info\">\n",
    "We can also use the .set_names method to change the name of our indices"
   ]
  },
  {
   "cell_type": "code",
   "execution_count": null,
   "metadata": {},
   "outputs": [],
   "source": [
    "bigmac.index.set_names([\"Zman\", \"Location\"], inplace = True)"
   ]
  },
  {
   "cell_type": "code",
   "execution_count": null,
   "metadata": {
    "scrolled": true
   },
   "outputs": [],
   "source": [
    "bigmac.head(3)"
   ]
  },
  {
   "cell_type": "code",
   "execution_count": null,
   "metadata": {},
   "outputs": [],
   "source": [
    "#now let's return things to normal\n",
    "bigmac = pd.read_csv(\"bigmac.csv\", parse_dates = [\"Date\"], index_col = [\"Date\", \"Country\"])\n",
    "bigmac.sort_index(inplace = True)"
   ]
  },
  {
   "cell_type": "markdown",
   "metadata": {},
   "source": [
    "<img src=\"Images\\Slide6.PNG\" />"
   ]
  },
  {
   "cell_type": "markdown",
   "metadata": {},
   "source": [
    "<div class = \"alert alert-block alert-info\">\n",
    "Next, let's see how we can extract rows from multiIndices. <br>\n",
    "We'll do this using the .loc and .iloc methods, with a tuple to represent our multiIndex"
   ]
  },
  {
   "cell_type": "code",
   "execution_count": null,
   "metadata": {},
   "outputs": [],
   "source": [
    "bigmac.loc[(\"2010-01-01\")] #Here we filtered only on the first level index\n",
    "bigmac.loc[(\"2010-01-01\", \"Brazil\")] #Here we filtered on both levels, but not on columns\n",
    "bigmac.loc[(\"2010-01-01\", \"Brazil\"), \"Price in US Dollars\"] #Here we filtered on everything - this would be useful if we had more columns..."
   ]
  },
  {
   "cell_type": "code",
   "execution_count": null,
   "metadata": {},
   "outputs": [],
   "source": [
    "#we can also use the iloc method to the same extent, but it's harder to filter on the multiIndex, because it treats all levels as one\n",
    "bigmac.iloc[0, 0]\n",
    "bigmac.iloc[4,0]\n"
   ]
  },
  {
   "cell_type": "code",
   "execution_count": null,
   "metadata": {},
   "outputs": [],
   "source": [
    "bigmac.ix[(\"2016-01-01\", \"China\"), 0] #we can also use ix, but ix is deprecated"
   ]
  },
  {
   "cell_type": "markdown",
   "metadata": {},
   "source": [
    "<img src=\"Images\\Slide7.PNG\" />"
   ]
  },
  {
   "cell_type": "markdown",
   "metadata": {
    "collapsed": true
   },
   "source": [
    "## The `.transpose()`  and `.swaplevel()` Methods"
   ]
  },
  {
   "cell_type": "markdown",
   "metadata": {},
   "source": [
    "<div class = \"alert alert-block alert-info\">\n",
    "Next, we'll learn about the transpose method - which basicly turns around the axis of the Dataframe - let's take a look:"
   ]
  },
  {
   "cell_type": "code",
   "execution_count": null,
   "metadata": {},
   "outputs": [],
   "source": [
    "bigmac.head(3)"
   ]
  },
  {
   "cell_type": "code",
   "execution_count": null,
   "metadata": {},
   "outputs": [],
   "source": [
    "bigmac.transpose()"
   ]
  },
  {
   "cell_type": "code",
   "execution_count": null,
   "metadata": {},
   "outputs": [],
   "source": [
    "bigmac = bigmac.transpose()"
   ]
  },
  {
   "cell_type": "markdown",
   "metadata": {},
   "source": [
    "<div class = \"alert alert-block alert-info\">\n",
    "This can sometimes be VERY useful - for example when you have a series and want to turn it into a list of features. <br>\n",
    "Now let's observe how we extract from our transposed dataframe:"
   ]
  },
  {
   "cell_type": "code",
   "execution_count": null,
   "metadata": {},
   "outputs": [],
   "source": [
    "bigmac.loc[\"Price in US Dollars\", (\"2016-01-01\", \"Denmark\")]"
   ]
  },
  {
   "cell_type": "code",
   "execution_count": null,
   "metadata": {},
   "outputs": [],
   "source": [
    "#now let's put things back to normal\n",
    "bigmac = pd.read_csv(\"bigmac.csv\", parse_dates = [\"Date\"], index_col = [\"Date\", \"Country\"])\n",
    "bigmac.sort_index(inplace = True)"
   ]
  },
  {
   "cell_type": "code",
   "execution_count": null,
   "metadata": {},
   "outputs": [],
   "source": [
    "bigmac.swaplevel()"
   ]
  },
  {
   "cell_type": "markdown",
   "metadata": {},
   "source": [
    "## Pivot, Stack, Unstack, Melt"
   ]
  },
  {
   "cell_type": "code",
   "execution_count": null,
   "metadata": {},
   "outputs": [],
   "source": [
    "pd.read_csv(\"worldstats.csv\", index_col = [\"country\", \"year\"])\n",
    "world = pd.read_csv(\"worldstats.csv\", index_col = [\"country\", \"year\"])\n",
    "world.head(3)"
   ]
  },
  {
   "cell_type": "code",
   "execution_count": null,
   "metadata": {},
   "outputs": [],
   "source": [
    "world.stack()"
   ]
  },
  {
   "cell_type": "code",
   "execution_count": null,
   "metadata": {},
   "outputs": [],
   "source": [
    "#To prove the columns became an index - we'll turn the series into a Dataframe\n",
    "world.stack().to_frame()"
   ]
  },
  {
   "cell_type": "markdown",
   "metadata": {},
   "source": [
    "<div class = \"alert alert-block alert-info\">\n",
    "The reason our column is called 0 is because that's pandas' default name. <br>\n",
    "<br>\n",
    "Next, let's look at unstack, which does, like you guessed, exactly the opposite."
   ]
  },
  {
   "cell_type": "code",
   "execution_count": null,
   "metadata": {},
   "outputs": [],
   "source": [
    "s = world.stack()\n",
    "s.head(3)"
   ]
  },
  {
   "cell_type": "code",
   "execution_count": null,
   "metadata": {},
   "outputs": [],
   "source": [
    "s.unstack()\n",
    "#s.unstack().unstack()\n",
    "#s.unstack().unstack().unstack()"
   ]
  },
  {
   "cell_type": "markdown",
   "metadata": {},
   "source": [
    "<div class = \"alert alert-block alert-info\">\n",
    "We can also give unstack an index number, if we don't want it to choose the deepest layer by default <br>"
   ]
  },
  {
   "cell_type": "code",
   "execution_count": null,
   "metadata": {},
   "outputs": [],
   "source": [
    "s.unstack(0)\n",
    "#s.unstack(1)\n",
    "#s.unstack(2)\n",
    "#s.unstack(-1)\n",
    "#s.unstack(-2)"
   ]
  },
  {
   "cell_type": "markdown",
   "metadata": {},
   "source": [
    "<div class = \"alert alert-block alert-info\">\n",
    "We can also unstack by level name."
   ]
  },
  {
   "cell_type": "code",
   "execution_count": null,
   "metadata": {},
   "outputs": [],
   "source": [
    "s.unstack(level = [\"year\", \"country\"])"
   ]
  },
  {
   "cell_type": "markdown",
   "metadata": {},
   "source": [
    "<div class = \"alert alert-block alert-info\">\n",
    "And last, pandas sometimes creates cells with no values in order to keep the consistency of the Dataframe. <br>\n",
    "The fill_value parameter allows us to replace the dafault NaN with a value"
   ]
  },
  {
   "cell_type": "code",
   "execution_count": null,
   "metadata": {},
   "outputs": [],
   "source": [
    "s.unstack(1)"
   ]
  },
  {
   "cell_type": "code",
   "execution_count": null,
   "metadata": {},
   "outputs": [],
   "source": [
    "s = s.unstack(\"year\", fill_value = 0)"
   ]
  },
  {
   "cell_type": "code",
   "execution_count": null,
   "metadata": {},
   "outputs": [],
   "source": [
    "s.head()"
   ]
  },
  {
   "cell_type": "markdown",
   "metadata": {},
   "source": [
    "<div class = \"alert alert-block alert-info\">\n",
    "Next we'll learn about the pivot method. <br>\n",
    "But first, a quick reminder what is pivot:"
   ]
  },
  {
   "cell_type": "markdown",
   "metadata": {},
   "source": [
    "![slide1](pivot_excel.png)"
   ]
  },
  {
   "cell_type": "markdown",
   "metadata": {},
   "source": [
    "<div class = \"alert alert-block alert-info\">\n",
    "Pivot is extremely simple in pandas - <br>\n",
    "Let's start by loading a new dataframe. This dataset contains the yearly revenue of 5 salesmen of a fictional company."
   ]
  },
  {
   "cell_type": "code",
   "execution_count": null,
   "metadata": {},
   "outputs": [],
   "source": [
    "pd.read_csv(\"salesmen.csv\")"
   ]
  },
  {
   "cell_type": "code",
   "execution_count": null,
   "metadata": {},
   "outputs": [],
   "source": [
    "sales = pd.read_csv(\"salesmen.csv\", parse_dates = [\"Date\"]) #Notice we parsed the dates\n",
    "sales[\"Salesman\"] = sales[\"Salesman\"].astype(\"category\") #Notice we changed this column to \"category\" - why?\n",
    "sales.head(3)"
   ]
  },
  {
   "cell_type": "code",
   "execution_count": null,
   "metadata": {
    "scrolled": true
   },
   "outputs": [],
   "source": [
    "sales.pivot(index = \"Date\", columns=\"Salesman\", values=\"Revenue\")"
   ]
  },
  {
   "cell_type": "markdown",
   "metadata": {},
   "source": [
    "<div class = \"alert alert-block alert-info\">\n",
    "Wow - that makes much more sense! <br>\n",
    "Notice that this DF is 1/5 as long as our previous DF <br>\n",
    "<br>\n",
    "Next, let's look at pivot_table. Pivot Table, much like in excel, allows us to pivot and combine that with an aggregative function. <br>\n",
    "Let's import a new dataset of customers in a fictional restaurant, and what they like to order"
   ]
  },
  {
   "cell_type": "code",
   "execution_count": null,
   "metadata": {},
   "outputs": [],
   "source": [
    "foods =pd.read_csv(\"foods.csv\")\n",
    "foods.head(3)"
   ]
  },
  {
   "cell_type": "code",
   "execution_count": null,
   "metadata": {},
   "outputs": [],
   "source": [
    "#foods.pivot_table(values=\"Spend\", index=\"Gender\", aggfunc=\"sum\")\n",
    "#foods.pivot_table(values=\"Spend\", index=\"Item\", aggfunc=\"sum\")\n",
    "#foods.pivot_table(values=\"Spend\", index=[\"Gender\", \"Item\"], aggfunc=\"sum\")\n",
    "#foods.pivot_table(values=\"Spend\", index=[\"Gender\", \"Item\"], aggfunc=\"mean\")\n",
    "#foods.pivot_table(values=\"Spend\", index=[\"Gender\", \"Item\"], columns= \"City\", aggfunc=\"mean\")"
   ]
  },
  {
   "cell_type": "markdown",
   "metadata": {},
   "source": [
    "<div class = \"alert alert-block alert-info\">\n",
    "Pop quiz - How would the dataframes from the following 2 lines will look like?"
   ]
  },
  {
   "cell_type": "code",
   "execution_count": null,
   "metadata": {},
   "outputs": [],
   "source": [
    "#foods.pivot_table(values=\"Spend\", index=[\"Gender\", \"Item\"], columns= \"City\", aggfunc=\"min\")\n",
    "#foods.pivot_table(values=\"Spend\", index=[\"City\", \"Item\"], columns= \"Frequency\", aggfunc=\"mean\")"
   ]
  },
  {
   "cell_type": "markdown",
   "metadata": {},
   "source": [
    "<div class = \"alert alert-block alert-info\">\n",
    "Lastly, we'll learn the pd.melt method, which allows us to \"melt\" our columns into one and turn them into values. <br>\n",
    "Melt UNPIVOTS a dataframe, and we can choose which columns to keep <br>\n",
    "It'll make more sense when you see it - let's start with importing a very small dataset of 9 salesmen and how much they sold each quarter"
   ]
  },
  {
   "cell_type": "code",
   "execution_count": null,
   "metadata": {
    "scrolled": true
   },
   "outputs": [],
   "source": [
    "sales = pd.read_csv(\"quarters.csv\")\n",
    "sales"
   ]
  },
  {
   "cell_type": "code",
   "execution_count": null,
   "metadata": {},
   "outputs": [],
   "source": [
    "pd.melt(sales, id_vars=\"Salesman\")\n",
    "#pd.melt(sales)"
   ]
  },
  {
   "cell_type": "code",
   "execution_count": null,
   "metadata": {},
   "outputs": [],
   "source": [
    "#We can also change the name of our new variable and value columns\n",
    "pd.melt(sales, id_vars = \"Salesman\", var_name = \"Quarter\", value_name = \"Revenue\")"
   ]
  },
  {
   "cell_type": "markdown",
   "metadata": {
    "collapsed": true
   },
   "source": [
    "<img src=\"tweet.jpg\" width = '500'/>"
   ]
  }
 ],
 "metadata": {
  "anaconda-cloud": {},
  "kernelspec": {
   "display_name": "Python 3",
   "language": "python",
   "name": "python3"
  },
  "language_info": {
   "codemirror_mode": {
    "name": "ipython",
    "version": 3
   },
   "file_extension": ".py",
   "mimetype": "text/x-python",
   "name": "python",
   "nbconvert_exporter": "python",
   "pygments_lexer": "ipython3",
   "version": "3.6.5"
  }
 },
 "nbformat": 4,
 "nbformat_minor": 1
}
