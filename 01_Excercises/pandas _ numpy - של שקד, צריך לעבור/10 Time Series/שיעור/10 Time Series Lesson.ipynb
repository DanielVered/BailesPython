{
 "cells": [
  {
   "cell_type": "markdown",
   "metadata": {},
   "source": [
    "<img src=\"Images\\Slide1.PNG\" />"
   ]
  },
  {
   "cell_type": "code",
   "execution_count": null,
   "metadata": {},
   "outputs": [],
   "source": [
    "import pandas as pd\n",
    "import datetime as dt"
   ]
  },
  {
   "cell_type": "markdown",
   "metadata": {},
   "source": [
    "<img src=\"Images\\Slide2.PNG\" />"
   ]
  },
  {
   "cell_type": "markdown",
   "metadata": {},
   "source": [
    "<img src=\"Images\\Slide3.PNG\" />"
   ]
  },
  {
   "cell_type": "code",
   "execution_count": null,
   "metadata": {},
   "outputs": [],
   "source": [
    "someday = dt.date(2010, 1, 20)"
   ]
  },
  {
   "cell_type": "code",
   "execution_count": null,
   "metadata": {},
   "outputs": [],
   "source": [
    "#Try running each one of these lines\n",
    "\n",
    "someday.year\n",
    "#someday.month\n",
    "#someday.day"
   ]
  },
  {
   "cell_type": "code",
   "execution_count": null,
   "metadata": {},
   "outputs": [],
   "source": [
    "#And it can also be turned into a string\n",
    "str(someday)"
   ]
  },
  {
   "cell_type": "markdown",
   "metadata": {},
   "source": [
    "<div class = \"alert alert-block alert-info\">\n",
    "There's also a datetime object, which contains both date and time"
   ]
  },
  {
   "cell_type": "code",
   "execution_count": null,
   "metadata": {},
   "outputs": [],
   "source": [
    "str(dt.datetime(2010, 1, 10, 15, 13, 57)) #default is 00:00:00, can only accept numbers that are actual dates and times"
   ]
  },
  {
   "cell_type": "code",
   "execution_count": null,
   "metadata": {},
   "outputs": [],
   "source": [
    "sometime = dt.datetime(2010, 1, 10, 17, 13, 57)"
   ]
  },
  {
   "cell_type": "code",
   "execution_count": null,
   "metadata": {
    "scrolled": true
   },
   "outputs": [],
   "source": [
    "#Try running each one of these lines\n",
    "\n",
    "#sometime.year\n",
    "#sometime.month\n",
    "sometime.day\n",
    "#sometime.hour\n",
    "#sometime.minute\n",
    "#sometime.second"
   ]
  },
  {
   "cell_type": "markdown",
   "metadata": {},
   "source": [
    "<img src=\"Images\\Slide4.PNG\" />"
   ]
  },
  {
   "cell_type": "markdown",
   "metadata": {},
   "source": [
    "## The `pandas Timestamp` Object"
   ]
  },
  {
   "cell_type": "markdown",
   "metadata": {},
   "source": [
    "<div class = \"alert alert-block alert-info\">\n",
    "Ok, now back to pandas. Pandas was originally developed to analyze financial data, which is why it's so flexible while dealing with Time Series Data <br>\n",
    "The first object we'll learn is the Timestamp object. As you can see, pandas offers a lot of flexibility when it comes to defining it."
   ]
  },
  {
   "cell_type": "code",
   "execution_count": null,
   "metadata": {},
   "outputs": [],
   "source": [
    "#Let's run each of these lines:\n",
    "\n",
    "pd.Timestamp(\"2015-03-31\")\n",
    "#pd.Timestamp(\"2015/03/31\")\n",
    "#pd.Timestamp(\"2013, 11, 04\")\n",
    "#pd.Timestamp(\"1/1/2015\")\n",
    "#pd.Timestamp(\"19/12/2015\")\n",
    "#pd.Timestamp(\"12/19/2015\")\n",
    "#pd.Timestamp(\"4/3/2000\")\n",
    "#pd.Timestamp(\"2021-03-08 08:35:15\")\n",
    "pd.Timestamp(\"2021-03-08 6:13:29 PM\")"
   ]
  },
  {
   "cell_type": "markdown",
   "metadata": {},
   "source": [
    "<div class = \"alert alert-block alert-info\">\n",
    "Timestamp can accept datetime objects. not just strings.\n"
   ]
  },
  {
   "cell_type": "code",
   "execution_count": null,
   "metadata": {},
   "outputs": [],
   "source": [
    "pd.Timestamp(dt.date(2015, 1, 1))"
   ]
  },
  {
   "cell_type": "code",
   "execution_count": null,
   "metadata": {},
   "outputs": [],
   "source": [
    "pd.Timestamp(dt.datetime(2000, 2, 3, 21, 35, 22))"
   ]
  },
  {
   "cell_type": "markdown",
   "metadata": {},
   "source": [
    "<div class = \"alert alert-block alert-info\">\n",
    "The Timestamp object has pretty cool attributes"
   ]
  },
  {
   "cell_type": "code",
   "execution_count": null,
   "metadata": {},
   "outputs": [],
   "source": [
    "someday = pd.Timestamp(\"12/01/2015\")\n",
    "#someday.is_month_end\n",
    "#someday.is_month_start\n",
    "#someday.is_quarter_start"
   ]
  },
  {
   "cell_type": "markdown",
   "metadata": {},
   "source": [
    "<img src=\"Images\\Slide6.PNG\" />"
   ]
  },
  {
   "cell_type": "markdown",
   "metadata": {},
   "source": [
    "## The `pandas DateTimeIndex` Object"
   ]
  },
  {
   "cell_type": "markdown",
   "metadata": {},
   "source": [
    "<div class = \"alert alert-block alert-info\">\n",
    "Next, we'll learn about the other main object, the DateTimeIndex <br>\n",
    "First let's try to create a DateTimeIndex - "
   ]
  },
  {
   "cell_type": "code",
   "execution_count": null,
   "metadata": {},
   "outputs": [],
   "source": [
    "dates = [\"2016/01/02\", \"2016/04/12\", \"2009/09/07\"]\n",
    "pd.DatetimeIndex(dates)"
   ]
  },
  {
   "cell_type": "markdown",
   "metadata": {},
   "source": [
    "<div class = \"alert alert-block alert-info\">\n",
    "Now, let's create a Series where the index is a DateTimeIndex"
   ]
  },
  {
   "cell_type": "code",
   "execution_count": null,
   "metadata": {},
   "outputs": [],
   "source": [
    "dates = [dt.date(2016, 1, 10), dt.date(1994, 6, 13), dt.date(2003, 12, 29)]\n",
    "dtIndex = pd.DatetimeIndex(dates)"
   ]
  },
  {
   "cell_type": "code",
   "execution_count": null,
   "metadata": {},
   "outputs": [],
   "source": [
    "values = [100, 200, 300]\n",
    "pd.Series(data = values, index = dtIndex)"
   ]
  },
  {
   "cell_type": "markdown",
   "metadata": {},
   "source": [
    "<div class = \"alert alert-block alert-info\">\n",
    "There's a lot we can do once our index is a DateTimeIndex - we'll return to to that soon."
   ]
  },
  {
   "cell_type": "markdown",
   "metadata": {},
   "source": [
    "## The `pd.to_datetime()` Method"
   ]
  },
  {
   "cell_type": "markdown",
   "metadata": {},
   "source": [
    "<div class = \"alert alert-block alert-info\">\n",
    "Next, let's observe a simple method that turns strings or python datetime objects to Timestamps and DateTimeIndex"
   ]
  },
  {
   "cell_type": "code",
   "execution_count": null,
   "metadata": {},
   "outputs": [],
   "source": [
    "pd.to_datetime(\"2001-04-19\")\n",
    "pd.to_datetime(dt.date(2015, 1, 1))\n",
    "#pd.to_datetime(dt.datetime(2015, 1, 1, 14, 35, 20))\n",
    "\n",
    "#And what if we input a list?\n",
    "pd.to_datetime([\"2015-01-03\", \"2014/02/08\", \"2016\", \"July 4th, 1996\"])"
   ]
  },
  {
   "cell_type": "code",
   "execution_count": null,
   "metadata": {},
   "outputs": [],
   "source": [
    "times = pd.Series([\"2015-01-03\", \"2014/02/08\", \"2016\", \"July 4th, 1996\"])\n",
    "times"
   ]
  },
  {
   "cell_type": "code",
   "execution_count": null,
   "metadata": {},
   "outputs": [],
   "source": [
    "pd.to_datetime(times)"
   ]
  },
  {
   "cell_type": "code",
   "execution_count": null,
   "metadata": {},
   "outputs": [],
   "source": [
    "dates = pd.Series([\"July 4th, 1996\", \"10/04/1991\", \"Hello\", \"2015-02-31\"])\n",
    "dates"
   ]
  },
  {
   "cell_type": "markdown",
   "metadata": {},
   "source": [
    "<div class = \"alert alert-block alert-info\">\n",
    "Will this work?"
   ]
  },
  {
   "cell_type": "code",
   "execution_count": null,
   "metadata": {},
   "outputs": [],
   "source": [
    "pd.to_datetime(dates, errors = \"raise\") #change to coerce"
   ]
  },
  {
   "cell_type": "code",
   "execution_count": null,
   "metadata": {},
   "outputs": [],
   "source": [
    "#And of course it also accepts unix times\n",
    "pd.to_datetime([1349720105, 1349806505, 1349892905, 1349979305, 1350065705], unit = \"s\")"
   ]
  },
  {
   "cell_type": "markdown",
   "metadata": {},
   "source": [
    "## Create Range of Dates with the `pd.date_range()` Method"
   ]
  },
  {
   "cell_type": "markdown",
   "metadata": {},
   "source": [
    "<div class = \"alert alert-block alert-info\">\n",
    "Next, let's learn how to create date ranges - "
   ]
  },
  {
   "cell_type": "code",
   "execution_count": null,
   "metadata": {},
   "outputs": [],
   "source": [
    "pd.date_range(start = \"2016-01-01\", end = \"2016-01-25\", freq = \"D\")\n",
    "#pd.date_range(start = \"2016-01-01\", end = \"2016-01-10\", freq = \"2D\")\n",
    "#pd.date_range(start = \"2016-01-01\", end = \"2016-01-10\", freq = \"W\")\n",
    "#pd.date_range(start = \"2016-01-01\", end = \"2016-01-10\", freq = \"12H\")\n",
    "#pd.date_range(start = \"2016-01-01\", end = \"2016-01-10\", freq = \"W-MON\")\n",
    "#pd.date_range(start = \"2016-01-01\", end = \"2016-01-10\", freq = \"M\")\n",
    "#pd.date_range(start = \"2016-01-01\", end = \"2016-01-10\", freq = \"MS\")\n",
    "#pd.date_range(start = \"2016-01-01\", end = \"2016-01-10\", freq = \"A\")"
   ]
  },
  {
   "cell_type": "code",
   "execution_count": null,
   "metadata": {},
   "outputs": [],
   "source": [
    "times = pd.date_range(start = \"2016-01-01\", end = \"2016-01-10\", freq = \"D\")"
   ]
  },
  {
   "cell_type": "markdown",
   "metadata": {},
   "source": [
    "<div class = \"alert alert-block alert-info\">\n",
    "If we look at our date range object. we'll see it is indeed a DateTimeIndex of Timestamps"
   ]
  },
  {
   "cell_type": "code",
   "execution_count": null,
   "metadata": {},
   "outputs": [],
   "source": [
    "type(times)"
   ]
  },
  {
   "cell_type": "code",
   "execution_count": null,
   "metadata": {},
   "outputs": [],
   "source": [
    "type(times[0])"
   ]
  },
  {
   "cell_type": "markdown",
   "metadata": {},
   "source": [
    "<div class = \"alert alert-block alert-info\">\n",
    "We can also use the \"periods\" parameter, along with either start or end, to create a date_range"
   ]
  },
  {
   "cell_type": "code",
   "execution_count": null,
   "metadata": {},
   "outputs": [],
   "source": [
    "pd.date_range(start = \"2012-09-09\", periods = 50, freq = \"6H\")"
   ]
  },
  {
   "cell_type": "code",
   "execution_count": null,
   "metadata": {},
   "outputs": [],
   "source": [
    "pd.date_range(end = \"1999-12-31\", periods = 100, freq = \"7H\")"
   ]
  },
  {
   "cell_type": "markdown",
   "metadata": {},
   "source": [
    "<img src=\"Images\\Slide5.PNG\" />"
   ]
  },
  {
   "cell_type": "markdown",
   "metadata": {},
   "source": [
    "## The `.dt` Accessor"
   ]
  },
  {
   "cell_type": "code",
   "execution_count": null,
   "metadata": {},
   "outputs": [],
   "source": [
    "bunch_of_dates = pd.date_range(start = \"2000-01-01\", end = \"2010-12-31\", freq = \"24D\")"
   ]
  },
  {
   "cell_type": "code",
   "execution_count": null,
   "metadata": {},
   "outputs": [],
   "source": [
    "s = pd.Series(bunch_of_dates)\n",
    "s.head(3)"
   ]
  },
  {
   "cell_type": "markdown",
   "metadata": {},
   "source": [
    "<div class = \"alert alert-block alert-info\">\n",
    "What if we want to check the day of an object in our series"
   ]
  },
  {
   "cell_type": "code",
   "execution_count": null,
   "metadata": {},
   "outputs": [],
   "source": [
    "s[0].day"
   ]
  },
  {
   "cell_type": "markdown",
   "metadata": {},
   "source": [
    "<div class = \"alert alert-block alert-info\">\n",
    "And if we want to check the day of all objects in a series?"
   ]
  },
  {
   "cell_type": "code",
   "execution_count": null,
   "metadata": {},
   "outputs": [],
   "source": [
    "s.day"
   ]
  },
  {
   "cell_type": "code",
   "execution_count": null,
   "metadata": {},
   "outputs": [],
   "source": [
    "s.dt.day\n",
    "s.dt.weekday_name\n",
    "#s.dt.is_month_start"
   ]
  },
  {
   "cell_type": "code",
   "execution_count": null,
   "metadata": {
    "scrolled": false
   },
   "outputs": [],
   "source": [
    "mask = s.dt.is_month_end\n",
    "s[mask]"
   ]
  },
  {
   "cell_type": "markdown",
   "metadata": {},
   "source": [
    "## The `.dt` Accessor - `floor()\\ceil()\\round()`"
   ]
  },
  {
   "cell_type": "code",
   "execution_count": null,
   "metadata": {},
   "outputs": [],
   "source": [
    "ser = pd.Series(pd.date_range(end = \"1999-12-31\", periods = 100, freq = \"1S\"))\n",
    "#ser.dt.floor(\"T\")\n",
    "#ser.dt.ceil(\"T\")\n",
    "#ser.dt.round(\"T\")"
   ]
  },
  {
   "cell_type": "markdown",
   "metadata": {
    "collapsed": true
   },
   "source": [
    "## Selecting from a `DataFrame` with a `DateTimeIndex`"
   ]
  },
  {
   "cell_type": "markdown",
   "metadata": {},
   "source": [
    "<div class = \"alert alert-block alert-info\">\n",
    "Now let's get serious - let's work with real Time Series data. <br>\n",
    "First, let's import Apple's daily stock price from 1980 to 2014 (shame you didn't buy any in 1980, huh?)"
   ]
  },
  {
   "cell_type": "code",
   "execution_count": null,
   "metadata": {},
   "outputs": [],
   "source": [
    "pd.read_csv('appl_1980_2014.csv')"
   ]
  },
  {
   "cell_type": "code",
   "execution_count": null,
   "metadata": {},
   "outputs": [],
   "source": [
    "data = pd.read_csv('appl_1980_2014.csv', parse_dates=[0]) #Why did we add parse_dates?"
   ]
  },
  {
   "cell_type": "code",
   "execution_count": null,
   "metadata": {},
   "outputs": [],
   "source": [
    "data.head()"
   ]
  },
  {
   "cell_type": "markdown",
   "metadata": {},
   "source": [
    "<div class = \"alert alert-block alert-info\">\n",
    "But something isn't right here - look at the index... <br>\n",
    "Let's fix that"
   ]
  },
  {
   "cell_type": "code",
   "execution_count": null,
   "metadata": {},
   "outputs": [],
   "source": [
    "data = data.sort_values('Date').set_index('Date')"
   ]
  },
  {
   "cell_type": "markdown",
   "metadata": {},
   "source": [
    "<div class = \"alert alert-block alert-info\">\n",
    "Excellent - now, let's see how we can access specific rows"
   ]
  },
  {
   "cell_type": "code",
   "execution_count": null,
   "metadata": {},
   "outputs": [],
   "source": [
    "data.loc[\"2014-07-08\"]\n",
    "data.iloc[300]"
   ]
  },
  {
   "cell_type": "code",
   "execution_count": null,
   "metadata": {},
   "outputs": [],
   "source": [
    "data.loc[\"2013-10-01\" : \"2013-10-07\"]\n",
    "data.iloc[100 : 110]"
   ]
  },
  {
   "cell_type": "markdown",
   "metadata": {},
   "source": [
    "<div class = \"alert alert-block alert-info\">\n",
    "Let's try to extract all the rows that occured on my birthday each year"
   ]
  },
  {
   "cell_type": "code",
   "execution_count": null,
   "metadata": {},
   "outputs": [],
   "source": [
    "pd.date_range(start = \"1994-10-18\", end = \"2014-12-31\", freq = pd.DateOffset(years = 1)) \n",
    "#We can't use A because we'll get the 31/12 of each year"
   ]
  },
  {
   "cell_type": "code",
   "execution_count": null,
   "metadata": {},
   "outputs": [],
   "source": [
    "birthdays = pd.date_range(start = \"1994-10-18\", end = \"2014-12-31\", freq = pd.DateOffset(years = 1)) "
   ]
  },
  {
   "cell_type": "code",
   "execution_count": null,
   "metadata": {},
   "outputs": [],
   "source": [
    "mask = data.index.isin(birthdays)"
   ]
  },
  {
   "cell_type": "code",
   "execution_count": null,
   "metadata": {},
   "outputs": [],
   "source": [
    "data[mask]"
   ]
  },
  {
   "cell_type": "markdown",
   "metadata": {
    "collapsed": true
   },
   "source": [
    "## Resample"
   ]
  },
  {
   "cell_type": "markdown",
   "metadata": {
    "collapsed": true
   },
   "source": [
    "<div class = \"alert alert-block alert-info\">\n",
    "Now we're going to learn an extremely powerful method when working with Time Series <br>\n",
    "For that, let's import a dataframe of events which occured in specific points in time."
   ]
  },
  {
   "cell_type": "code",
   "execution_count": null,
   "metadata": {},
   "outputs": [],
   "source": [
    "df_io = pd.read_csv('data.csv',index_col=0,parse_dates=['date_'])\n",
    "df_io.head()"
   ]
  },
  {
   "cell_type": "markdown",
   "metadata": {},
   "source": [
    "<div class = \"alert alert-block alert-info\">\n",
    "This doesn't look so good - let's fix that"
   ]
  },
  {
   "cell_type": "code",
   "execution_count": null,
   "metadata": {},
   "outputs": [],
   "source": [
    "df = df_io.copy().sort_values('date_').set_index('date_').drop(columns='val_updated')\n",
    "df.head()"
   ]
  },
  {
   "cell_type": "markdown",
   "metadata": {},
   "source": [
    "<div class = \"alert alert-block alert-info\">\n",
    "Okay, now, what do we do if we want to count have many events occured each hour? <br>\n",
    "Here's a bad way to do it:"
   ]
  },
  {
   "cell_type": "code",
   "execution_count": null,
   "metadata": {},
   "outputs": [],
   "source": [
    "bad = df.copy()\n",
    "bad['day'] = bad.index.date\n",
    "bad['hour'] = bad.index.hour\n",
    "(bad\n",
    ".groupby(['day','hour'])\n",
    ".count()\n",
    ")"
   ]
  },
  {
   "cell_type": "markdown",
   "metadata": {},
   "source": [
    "<div class = \"alert alert-block alert-info\">\n",
    "And here's a good way"
   ]
  },
  {
   "cell_type": "code",
   "execution_count": null,
   "metadata": {},
   "outputs": [],
   "source": [
    "df.resample('H').count() # H is for Hour"
   ]
  },
  {
   "cell_type": "code",
   "execution_count": null,
   "metadata": {
    "scrolled": true
   },
   "outputs": [],
   "source": [
    "df.resample('10T').count()"
   ]
  },
  {
   "cell_type": "markdown",
   "metadata": {},
   "source": [
    "<div class = \"alert alert-block alert-info\">\n",
    "It also does other functions - "
   ]
  },
  {
   "cell_type": "code",
   "execution_count": null,
   "metadata": {},
   "outputs": [],
   "source": [
    "#df.resample('H').sum()\n",
    "#df.resample('H').mean()"
   ]
  },
  {
   "cell_type": "markdown",
   "metadata": {},
   "source": [
    "<div class = \"alert alert-block alert-info\">\n",
    "And best of all? You can use it with Groupby, it's extremely simple <br>\n",
    "In our specific case, we want to cound events in an interval per event type."
   ]
  },
  {
   "cell_type": "code",
   "execution_count": null,
   "metadata": {},
   "outputs": [],
   "source": [
    "per_event = (df\n",
    "             .groupby('event_type')\n",
    "             .resample('15T')\n",
    "             .apply('count')\n",
    "             .rename(columns={'event_type':'amount'})\n",
    "            )\n",
    "per_event.groupby('event_type').head(2)"
   ]
  },
  {
   "cell_type": "markdown",
   "metadata": {
    "collapsed": true
   },
   "source": [
    "## `Timestamp` Object Attributes"
   ]
  },
  {
   "cell_type": "markdown",
   "metadata": {},
   "source": [
    "<div class = \"alert alert-block alert-info\">\n",
    "Because we saw that Timestamps have some useful attributes, let's look what we can do with them"
   ]
  },
  {
   "cell_type": "code",
   "execution_count": null,
   "metadata": {},
   "outputs": [],
   "source": [
    "data.insert(0, \"Day of Week\", data.index.weekday_name)"
   ]
  },
  {
   "cell_type": "code",
   "execution_count": null,
   "metadata": {},
   "outputs": [],
   "source": [
    "data.head(5)"
   ]
  },
  {
   "cell_type": "code",
   "execution_count": null,
   "metadata": {},
   "outputs": [],
   "source": [
    "data.insert(1, \"Is Start of Month\", data.index.is_month_start)"
   ]
  },
  {
   "cell_type": "code",
   "execution_count": null,
   "metadata": {},
   "outputs": [],
   "source": [
    "data[data[\"Is Start of Month\"]]"
   ]
  },
  {
   "cell_type": "markdown",
   "metadata": {
    "collapsed": true
   },
   "source": [
    "## The `.truncate()` Method"
   ]
  },
  {
   "cell_type": "markdown",
   "metadata": {},
   "source": [
    "<div class = \"alert alert-block alert-info\">\n",
    "Let's learn a quick method to slice parts of a dataframe with DateTimeIndex"
   ]
  },
  {
   "cell_type": "code",
   "execution_count": null,
   "metadata": {},
   "outputs": [],
   "source": [
    "data = pd.read_csv('appl_1980_2014.csv', index_col=\"Date\", parse_dates=[0]) \n",
    "data.sort_index(inplace = True)"
   ]
  },
  {
   "cell_type": "code",
   "execution_count": null,
   "metadata": {},
   "outputs": [],
   "source": [
    "data.truncate(before = \"2012-06-12\", after = \"2012-06-14\") #If we hadn't sorted the index chronologically, this wouldn't work!"
   ]
  },
  {
   "cell_type": "markdown",
   "metadata": {},
   "source": [
    "<img src=\"Images\\Slide7.PNG\" />"
   ]
  },
  {
   "cell_type": "markdown",
   "metadata": {},
   "source": [
    "## `pd.DateOffset` Objects"
   ]
  },
  {
   "cell_type": "markdown",
   "metadata": {},
   "source": [
    "<div class = \"alert alert-block alert-info\">\n",
    "The DateOffset Object is a span of time that pandas can deal with (remember it from my birthday frequencies?) <br>\n",
    "For example, if we wanted to add a day to every date in our index, how can we do that?"
   ]
  },
  {
   "cell_type": "code",
   "execution_count": null,
   "metadata": {},
   "outputs": [],
   "source": [
    "# this is obviously not going to work\n",
    "data.index +1"
   ]
  },
  {
   "cell_type": "code",
   "execution_count": null,
   "metadata": {},
   "outputs": [],
   "source": [
    "data.index + pd.DateOffset(days =1)\n",
    "#data.index + pd.DateOffset(months = 1, days =1)\n",
    "#data.index + pd.DateOffset(months = 1, weeks = 2, days =1)\n",
    "#data.index + pd.DateOffset(years = 3, weeks = 2, days =1)\n",
    "#data.index + pd.DateOffset(months = 1, weeks = 2, days =1, hours = 2)\n"
   ]
  },
  {
   "cell_type": "markdown",
   "metadata": {},
   "source": [
    "<div class = \"alert alert-block alert-info\">\n",
    "Let's try something more complex, we have a module called tseries, which has many different functions. <br>\n",
    "Today we'll use pandas.tseries.offsets <br>\n",
    "For example, what if we want to round our dates to the nearest end of the month (each date is different)"
   ]
  },
  {
   "cell_type": "code",
   "execution_count": null,
   "metadata": {},
   "outputs": [],
   "source": [
    "from pandas.tseries import offsets"
   ]
  },
  {
   "cell_type": "code",
   "execution_count": null,
   "metadata": {
    "scrolled": true
   },
   "outputs": [],
   "source": [
    "#data.index - offsets.MonthEnd()\n",
    "#data.index + offsets.MonthEnd()\n",
    "#data.index - offsets.Day()\n",
    "#data.index - YearBegin()"
   ]
  },
  {
   "cell_type": "markdown",
   "metadata": {},
   "source": [
    "## The `Timedelta` Object"
   ]
  },
  {
   "cell_type": "markdown",
   "metadata": {},
   "source": [
    "<div class = \"alert alert-block alert-info\">\n",
    "Last object for this lesson - the Timedelta object <br>\n",
    "The Timedelta is basicly a span of time, a duration <br>\n",
    "There are 2 ways to create a Timedelta object"
   ]
  },
  {
   "cell_type": "code",
   "execution_count": null,
   "metadata": {},
   "outputs": [],
   "source": [
    "timeA = pd.Timestamp(\"2016-03-31 04:35:16 PM\")\n",
    "timeB = pd.Timestamp(\"2016-03-20 02:16:49 AM\")"
   ]
  },
  {
   "cell_type": "code",
   "execution_count": null,
   "metadata": {},
   "outputs": [],
   "source": [
    "timeA - timeB\n",
    "#timeB - timeA"
   ]
  },
  {
   "cell_type": "code",
   "execution_count": null,
   "metadata": {},
   "outputs": [],
   "source": [
    "type(timeA - timeB)"
   ]
  },
  {
   "cell_type": "code",
   "execution_count": null,
   "metadata": {},
   "outputs": [],
   "source": [
    "type(timeA)"
   ]
  },
  {
   "cell_type": "code",
   "execution_count": null,
   "metadata": {},
   "outputs": [],
   "source": [
    "pd.Timedelta(days = 3, hours = 12, minutes = 45)\n",
    "#pd.Timedelta(weeks = 8, days = 3, hours = 12, minutes = 45)\n",
    "#For some reason years doesn't work - so just use days"
   ]
  },
  {
   "cell_type": "code",
   "execution_count": null,
   "metadata": {},
   "outputs": [],
   "source": [
    "pd.Timedelta(\"14 days 6 hours 12 minutes 49 seconds\")"
   ]
  },
  {
   "cell_type": "markdown",
   "metadata": {},
   "source": [
    "<div class = \"alert alert-block alert-info\">\n",
    "Now let's look at examples of using Timedeltas in our work"
   ]
  },
  {
   "cell_type": "code",
   "execution_count": null,
   "metadata": {},
   "outputs": [],
   "source": [
    "shipping = pd.read_csv(\"ecommerce.csv\", index_col = \"ID\", parse_dates = [\"order_date\", \"delivery_date\"])\n",
    "shipping.head(3)"
   ]
  },
  {
   "cell_type": "code",
   "execution_count": null,
   "metadata": {},
   "outputs": [],
   "source": [
    "shipping[\"Delivery Time\"] = shipping[\"delivery_date\"] - shipping[\"order_date\"]"
   ]
  },
  {
   "cell_type": "code",
   "execution_count": null,
   "metadata": {},
   "outputs": [],
   "source": [
    "shipping.head(3)"
   ]
  },
  {
   "cell_type": "markdown",
   "metadata": {},
   "source": [
    "<div class = \"alert alert-block alert-info\">\n",
    "As you can see, it's a different data type"
   ]
  },
  {
   "cell_type": "code",
   "execution_count": null,
   "metadata": {},
   "outputs": [],
   "source": [
    "shipping.dtypes"
   ]
  },
  {
   "cell_type": "code",
   "execution_count": null,
   "metadata": {},
   "outputs": [],
   "source": [
    "mask = shipping[\"Delivery Time\"] > pd.Timedelta(\"1000 days\")\n",
    "shipping[mask]"
   ]
  },
  {
   "cell_type": "code",
   "execution_count": null,
   "metadata": {},
   "outputs": [],
   "source": [
    "shipping[\"Delivery Time\"].mean()"
   ]
  }
 ],
 "metadata": {
  "anaconda-cloud": {},
  "kernelspec": {
   "display_name": "Python 3",
   "language": "python",
   "name": "python3"
  },
  "language_info": {
   "codemirror_mode": {
    "name": "ipython",
    "version": 3
   },
   "file_extension": ".py",
   "mimetype": "text/x-python",
   "name": "python",
   "nbconvert_exporter": "python",
   "pygments_lexer": "ipython3",
   "version": "3.6.5"
  }
 },
 "nbformat": 4,
 "nbformat_minor": 1
}
