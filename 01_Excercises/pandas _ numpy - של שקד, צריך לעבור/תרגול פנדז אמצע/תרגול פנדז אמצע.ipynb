{
 "cells": [
  {
   "cell_type": "markdown",
   "metadata": {},
   "source": [
    "<img src = \"Opening.png\"/>"
   ]
  },
  {
   "cell_type": "code",
   "execution_count": null,
   "metadata": {},
   "outputs": [],
   "source": [
    "import pandas as pd\n",
    "import numpy as np"
   ]
  },
  {
   "cell_type": "markdown",
   "metadata": {},
   "source": [
    "<div dir = \"rtl\" />\n",
    "\n",
    "### צרו מערך דו מימדי של כל המספרים מ1 עד 100 בגודל של 10*10 והכניסו לתוך משתנה בשם mat:"
   ]
  },
  {
   "cell_type": "code",
   "execution_count": null,
   "metadata": {},
   "outputs": [],
   "source": []
  },
  {
   "cell_type": "markdown",
   "metadata": {},
   "source": [
    "<div dir = \"rtl\" />\n",
    "\n",
    "### הפכו את המערך ל-DF לתוך המשתנה daf:"
   ]
  },
  {
   "cell_type": "code",
   "execution_count": null,
   "metadata": {
    "scrolled": false
   },
   "outputs": [],
   "source": []
  },
  {
   "cell_type": "markdown",
   "metadata": {},
   "source": [
    "<div dir = \"rtl\" />\n",
    "\n",
    "### לפניכם רשימה של אותיות. הפכו את הרשימה להיות האינדקס (במקום האינדקס הקיים!):"
   ]
  },
  {
   "cell_type": "code",
   "execution_count": null,
   "metadata": {},
   "outputs": [],
   "source": [
    "letters = ['a', 'b','c','d','e','f','g','h','i','j']"
   ]
  },
  {
   "cell_type": "code",
   "execution_count": null,
   "metadata": {},
   "outputs": [],
   "source": []
  },
  {
   "cell_type": "markdown",
   "metadata": {},
   "source": [
    "<div dir = \"rtl\" />\n",
    "\n",
    "### בעזרת loc, שנו את הערכים של השורות הנתונות ל-np.nan: \n",
    "### a, c, d,h, j"
   ]
  },
  {
   "cell_type": "code",
   "execution_count": null,
   "metadata": {},
   "outputs": [],
   "source": []
  },
  {
   "cell_type": "markdown",
   "metadata": {},
   "source": [
    "<div dir = \"rtl\" />\n",
    "\n",
    "### מחקו את הרשומות שבהם יש Nan: \n"
   ]
  },
  {
   "cell_type": "code",
   "execution_count": null,
   "metadata": {},
   "outputs": [],
   "source": []
  },
  {
   "cell_type": "markdown",
   "metadata": {},
   "source": [
    "<div dir = \"rtl\" />\n",
    "\n",
    "### הציגו את ממוצע הערכים רק בעמודות זוגיות: \n"
   ]
  },
  {
   "cell_type": "code",
   "execution_count": null,
   "metadata": {},
   "outputs": [],
   "source": []
  },
  {
   "cell_type": "markdown",
   "metadata": {},
   "source": [
    "<div dir = \"rtl\" />\n",
    "\n",
    "### קראו את האקסל 'israel_league0910.xlsx' לתוך DF בשם alifot"
   ]
  },
  {
   "cell_type": "code",
   "execution_count": null,
   "metadata": {
    "scrolled": false
   },
   "outputs": [],
   "source": []
  },
  {
   "cell_type": "markdown",
   "metadata": {},
   "source": [
    "<div dir = \"rtl\" />\n",
    "\n",
    "### שנו את שמות העמודות לאנגלית : position, team, games, wins, tiko, loses , goals_zchot, goals_hova, points "
   ]
  },
  {
   "cell_type": "code",
   "execution_count": null,
   "metadata": {},
   "outputs": [],
   "source": []
  },
  {
   "cell_type": "markdown",
   "metadata": {},
   "source": [
    "<div dir = \"rtl\" />\n",
    "\n",
    "### שנו את עמודת מיקום להיות ה-index:"
   ]
  },
  {
   "cell_type": "code",
   "execution_count": null,
   "metadata": {},
   "outputs": [],
   "source": []
  },
  {
   "cell_type": "markdown",
   "metadata": {},
   "source": [
    "<div dir = \"rtl\" />\n",
    "\n",
    "### הראו את הרשומות במקומות 10 - 16:"
   ]
  },
  {
   "cell_type": "code",
   "execution_count": null,
   "metadata": {
    "scrolled": true
   },
   "outputs": [],
   "source": []
  },
  {
   "cell_type": "markdown",
   "metadata": {},
   "source": [
    "<div dir = \"rtl\" />\n",
    "\n",
    "### כמה שערי זכות נכבשו בכל הליגה?"
   ]
  },
  {
   "cell_type": "code",
   "execution_count": null,
   "metadata": {
    "scrolled": true
   },
   "outputs": [],
   "source": []
  },
  {
   "cell_type": "markdown",
   "metadata": {},
   "source": [
    "<div dir = \"rtl\" />\n",
    "\n",
    "### עבור כל עמודה, הציגו את כמות הערכים שהם nan:"
   ]
  },
  {
   "cell_type": "code",
   "execution_count": null,
   "metadata": {
    "scrolled": true
   },
   "outputs": [],
   "source": []
  },
  {
   "cell_type": "markdown",
   "metadata": {},
   "source": [
    "<div dir = \"rtl\" />\n",
    "\n",
    "### רואים שחסר איזשהו ערך? החליפו את הnan בערך 38: "
   ]
  },
  {
   "cell_type": "code",
   "execution_count": null,
   "metadata": {},
   "outputs": [],
   "source": []
  },
  {
   "cell_type": "markdown",
   "metadata": {},
   "source": [
    "<div dir = \"rtl\" />\n",
    "\n",
    "### הוסיפו שדה שקובע את המאזן השערים:  מספר שערי הזכות פחות מספר שערי החובה   "
   ]
  },
  {
   "cell_type": "code",
   "execution_count": null,
   "metadata": {},
   "outputs": [],
   "source": []
  },
  {
   "cell_type": "markdown",
   "metadata": {},
   "source": [
    "<div dir = \"rtl\" />\n",
    "\n",
    "### הוסיפו שדה שקובע האם קבוצה היא קבוצה טובה (בשם is_good) : אם מספר הניצחונות גדול פי 3 לפחות ממספר ההפסדים  "
   ]
  },
  {
   "cell_type": "code",
   "execution_count": null,
   "metadata": {},
   "outputs": [],
   "source": []
  },
  {
   "cell_type": "markdown",
   "metadata": {},
   "source": [
    "<div dir = \"rtl\" />\n",
    "\n",
    "### הביאו 3 עמודות אקראיות ומתוכן הציגו 3 רשומות אקראיות  "
   ]
  },
  {
   "cell_type": "code",
   "execution_count": null,
   "metadata": {},
   "outputs": [],
   "source": []
  },
  {
   "cell_type": "markdown",
   "metadata": {},
   "source": [
    "<div dir = \"rtl\" />\n",
    "\n",
    "### צרו העתק של מקומות 1-6 לתוך משתנה בשם playoff: "
   ]
  },
  {
   "cell_type": "code",
   "execution_count": null,
   "metadata": {
    "scrolled": true
   },
   "outputs": [],
   "source": []
  },
  {
   "cell_type": "markdown",
   "metadata": {},
   "source": [
    "<div dir = \"rtl\" />\n",
    "\n",
    "### הוסיפו שדה נוסף ל-playoff שמהווה את ממוצע הנקודות הכללי:"
   ]
  },
  {
   "cell_type": "code",
   "execution_count": null,
   "metadata": {},
   "outputs": [],
   "source": []
  },
  {
   "cell_type": "markdown",
   "metadata": {},
   "source": [
    "<div dir = \"rtl\" />\n",
    "\n",
    "### רוצו עבור כל Series והדפיסו את הערך החציוני (רק לעמודות שאפשר) והשאירו. שנו את ה-SERIES ל-DF "
   ]
  },
  {
   "cell_type": "code",
   "execution_count": null,
   "metadata": {
    "scrolled": false
   },
   "outputs": [],
   "source": []
  },
  {
   "cell_type": "markdown",
   "metadata": {},
   "source": [
    "<div dir = \"rtl\" />\n",
    "\n",
    "### צור מערך של אפסים בגודל של מספר הרשומות והשווה את זה לעמודה חדשה בשם grade "
   ]
  },
  {
   "cell_type": "code",
   "execution_count": null,
   "metadata": {},
   "outputs": [],
   "source": []
  },
  {
   "cell_type": "markdown",
   "metadata": {},
   "source": [
    "<div dir = \"rtl\" />\n",
    "\n",
    "### לאחר תלונות על שיטת הניקוד  הבעייתית לכאורה של העונה, הוחלט לנקד באופן שונה את הניקוד ולהכריע על בסיס פרמטרים אחרים: "
   ]
  },
  {
   "cell_type": "markdown",
   "metadata": {},
   "source": [
    "<div dir = \"rtl\" />\n",
    "\n",
    "# בנו דוח ציונים על פי הפרמטרים הבאים: \n",
    "### פלוס נקודות כמספר אותיות בקבוצה\n",
    "### פלוס נקודות כמספר הניצחונות\n",
    "### מינוס נקודות כמספר ההפסדים\n",
    "### פלוס נקודות כמספר שערי הזכות\n",
    "### מינוס נקודות כמספר שערי החובה\n",
    "### אם המיקום הוא אי זוגי : +20 נקודות, אחרת, -20 נקודות\n",
    "### אם מספר הנקודות מתחלק ב7 ללא שארית: +40 נקודות"
   ]
  },
  {
   "cell_type": "markdown",
   "metadata": {},
   "source": [
    "<div dir = \"rtl\" />\n",
    "\n",
    "### שנו את עמודת grade בהתאם לפרמטרים: "
   ]
  },
  {
   "cell_type": "code",
   "execution_count": null,
   "metadata": {},
   "outputs": [],
   "source": []
  },
  {
   "cell_type": "code",
   "execution_count": null,
   "metadata": {},
   "outputs": [],
   "source": []
  },
  {
   "cell_type": "markdown",
   "metadata": {},
   "source": [
    "<div dir = \"rtl\" />\n",
    "\n",
    "### מי הקבוצה הזוכה? "
   ]
  },
  {
   "cell_type": "code",
   "execution_count": null,
   "metadata": {
    "scrolled": true
   },
   "outputs": [],
   "source": []
  },
  {
   "cell_type": "markdown",
   "metadata": {},
   "source": [
    "<img src = \"Ending.png\"/>"
   ]
  }
 ],
 "metadata": {
  "kernelspec": {
   "display_name": "Python 3",
   "language": "python",
   "name": "python3"
  },
  "language_info": {
   "codemirror_mode": {
    "name": "ipython",
    "version": 3
   },
   "file_extension": ".py",
   "mimetype": "text/x-python",
   "name": "python",
   "nbconvert_exporter": "python",
   "pygments_lexer": "ipython3",
   "version": "3.7.4"
  }
 },
 "nbformat": 4,
 "nbformat_minor": 2
}
