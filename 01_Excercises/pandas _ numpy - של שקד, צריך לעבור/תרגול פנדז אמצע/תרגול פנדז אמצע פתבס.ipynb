{
 "cells": [
  {
   "cell_type": "code",
   "execution_count": null,
   "metadata": {},
   "outputs": [],
   "source": [
    "import pandas as pd\n",
    "import numpy as np"
   ]
  },
  {
   "cell_type": "markdown",
   "metadata": {},
   "source": [
    "<div dir = \"rtl\" />\n",
    "\n",
    "### צרו מערך דו מימדי של כל המספרים מ1 עד 100 בגודל של 10*10 והכניסו לתוך משתנה בשם mat:"
   ]
  },
  {
   "cell_type": "code",
   "execution_count": null,
   "metadata": {},
   "outputs": [],
   "source": [
    "mat = np.arange(1,101).reshape(10,10)\n",
    "mat"
   ]
  },
  {
   "cell_type": "markdown",
   "metadata": {},
   "source": [
    "<div dir = \"rtl\" />\n",
    "\n",
    "### הפכו את המערך ל-DF לתוך המשתנה daf:"
   ]
  },
  {
   "cell_type": "code",
   "execution_count": null,
   "metadata": {
    "scrolled": false
   },
   "outputs": [],
   "source": [
    "daf = pd.DataFrame(mat)\n",
    "daf"
   ]
  },
  {
   "cell_type": "markdown",
   "metadata": {},
   "source": [
    "<div dir = \"rtl\" />\n",
    "\n",
    "### לפניכם רשימה של אותיות. הפכו את הרשימה להיות האינדקס (במקום האינדקס הקיים!):"
   ]
  },
  {
   "cell_type": "code",
   "execution_count": null,
   "metadata": {},
   "outputs": [],
   "source": [
    "letters = ['a', 'b','c','d','e','f','g','h','i','j']"
   ]
  },
  {
   "cell_type": "code",
   "execution_count": null,
   "metadata": {},
   "outputs": [],
   "source": [
    "daf.index = letters\n",
    "daf"
   ]
  },
  {
   "cell_type": "markdown",
   "metadata": {},
   "source": [
    "<div dir = \"rtl\" />\n",
    "\n",
    "### בעזרת loc, שנו את הערכים של השורות הנתונות ל-np.nan: \n",
    "### a, c, d,h, j"
   ]
  },
  {
   "cell_type": "code",
   "execution_count": null,
   "metadata": {},
   "outputs": [],
   "source": [
    "daf.loc[['a','c','d','h','j']] = np.nan\n",
    "daf"
   ]
  },
  {
   "cell_type": "markdown",
   "metadata": {},
   "source": [
    "<div dir = \"rtl\" />\n",
    "\n",
    "### מחקו את הרשומות שבהם יש Nan: \n"
   ]
  },
  {
   "cell_type": "code",
   "execution_count": null,
   "metadata": {},
   "outputs": [],
   "source": [
    "daf = daf.dropna(how = 'any')"
   ]
  },
  {
   "cell_type": "markdown",
   "metadata": {},
   "source": [
    "<div dir = \"rtl\" />\n",
    "\n",
    "### הציגו את ממוצע הערכים רק בעמודות זוגיות: \n"
   ]
  },
  {
   "cell_type": "code",
   "execution_count": null,
   "metadata": {},
   "outputs": [],
   "source": [
    "daf[[0,2,4,6,8]].apply(lambda x: x.mean(),axis=0)"
   ]
  },
  {
   "cell_type": "markdown",
   "metadata": {},
   "source": [
    "<div dir = \"rtl\" />\n",
    "\n",
    "### קראו את האקסל 'israel_league0910.xlsx' לתוך DF בשם alifot"
   ]
  },
  {
   "cell_type": "code",
   "execution_count": null,
   "metadata": {
    "scrolled": false
   },
   "outputs": [],
   "source": [
    "alifot = pd.read_excel(\"israel_league0910.xlsx\")\n",
    "alifot.head()"
   ]
  },
  {
   "cell_type": "markdown",
   "metadata": {},
   "source": [
    "<div dir = \"rtl\" />\n",
    "\n",
    "### שנו את שמות העמודות לאנגלית : position, team, games, wins, tiko, loses , goals_zchot, goals_hova, points "
   ]
  },
  {
   "cell_type": "code",
   "execution_count": null,
   "metadata": {},
   "outputs": [],
   "source": [
    "alifot.columns  = [\"position\", \"team\", \"games\", \"wins\", \"tiko\", \"loses\" , \"goals_zchot\", \"goals_hova\", \"points\"]\n",
    "alifot"
   ]
  },
  {
   "cell_type": "markdown",
   "metadata": {},
   "source": [
    "<div dir = \"rtl\" />\n",
    "\n",
    "### שנו את עמודת מיקום להיות ה-index:"
   ]
  },
  {
   "cell_type": "code",
   "execution_count": null,
   "metadata": {},
   "outputs": [],
   "source": [
    "alifot = alifot.set_index(\"position\")"
   ]
  },
  {
   "cell_type": "markdown",
   "metadata": {},
   "source": [
    "<div dir = \"rtl\" />\n",
    "\n",
    "### הראו את הרשומות במקומות 10 - 16:"
   ]
  },
  {
   "cell_type": "code",
   "execution_count": null,
   "metadata": {
    "scrolled": true
   },
   "outputs": [],
   "source": [
    "alifot.loc[10:16]"
   ]
  },
  {
   "cell_type": "markdown",
   "metadata": {},
   "source": [
    "<div dir = \"rtl\" />\n",
    "\n",
    "### כמה שערי זכות נכבשו בכל הליגה?"
   ]
  },
  {
   "cell_type": "code",
   "execution_count": null,
   "metadata": {
    "scrolled": true
   },
   "outputs": [],
   "source": [
    "alifot[\"goals_zchot\"].sum()"
   ]
  },
  {
   "cell_type": "markdown",
   "metadata": {},
   "source": [
    "<div dir = \"rtl\" />\n",
    "\n",
    "### עבור כל עמודה, הציגו את כמות הערכים שהם nan:"
   ]
  },
  {
   "cell_type": "code",
   "execution_count": null,
   "metadata": {
    "scrolled": true
   },
   "outputs": [],
   "source": [
    "alifot.isnull().sum()"
   ]
  },
  {
   "cell_type": "markdown",
   "metadata": {},
   "source": [
    "<div dir = \"rtl\" />\n",
    "\n",
    "### רואים שחסר איזשהו ערך? החליפו את הnan בערך 38: "
   ]
  },
  {
   "cell_type": "code",
   "execution_count": null,
   "metadata": {},
   "outputs": [],
   "source": [
    "alifot = alifot.fillna(38)"
   ]
  },
  {
   "cell_type": "markdown",
   "metadata": {},
   "source": [
    "<div dir = \"rtl\" />\n",
    "\n",
    "### הוסיפו שדה שקובע את המאזן השערים:  מספר שערי הזכות פחות מספר שערי החובה   "
   ]
  },
  {
   "cell_type": "code",
   "execution_count": null,
   "metadata": {},
   "outputs": [],
   "source": [
    "alifot[\"balance\"] = alifot[\"goals_zchot\"] - alifot[\"goals_hova\"]\n",
    "alifot.head()"
   ]
  },
  {
   "cell_type": "markdown",
   "metadata": {},
   "source": [
    "<div dir = \"rtl\" />\n",
    "\n",
    "### הוסיפו שדה שקובע האם קבוצה היא קבוצה טובה (בשם is_good) : אם מספר הניצחונות גדול פי 3 לפחות ממספר ההפסדים  "
   ]
  },
  {
   "cell_type": "code",
   "execution_count": null,
   "metadata": {},
   "outputs": [],
   "source": [
    "alifot[\"balance\"] = alifot.apply(lambda x: x[\"goals_zchot\"] >= x[\"goals_hova\"] * 3 , axis = 1)\n",
    "alifot.head()"
   ]
  },
  {
   "cell_type": "markdown",
   "metadata": {},
   "source": [
    "<div dir = \"rtl\" />\n",
    "\n",
    "### הביאו 3 עמודות אקראיות ומתוכן הציגו 3 רשומות אקראיות  "
   ]
  },
  {
   "cell_type": "code",
   "execution_count": null,
   "metadata": {},
   "outputs": [],
   "source": [
    "alifot.sample(n=3, axis= 1).sample(n=3,axis=0)"
   ]
  },
  {
   "cell_type": "markdown",
   "metadata": {},
   "source": [
    "<div dir = \"rtl\" />\n",
    "\n",
    "### צרו העתק של מקומות 1-6 לתוך משתנה בשם playoff: "
   ]
  },
  {
   "cell_type": "code",
   "execution_count": null,
   "metadata": {
    "scrolled": true
   },
   "outputs": [],
   "source": [
    "playoff = alifot[0:6].copy()\n",
    "playoff"
   ]
  },
  {
   "cell_type": "markdown",
   "metadata": {},
   "source": [
    "<div dir = \"rtl\" />\n",
    "\n",
    "### הוסיפו שדה נוסף ל-playoff שמהווה את ממוצע הנקודות הכללי:"
   ]
  },
  {
   "cell_type": "code",
   "execution_count": null,
   "metadata": {},
   "outputs": [],
   "source": [
    "playoff[\"avg\"] = playoff[\"points\"].mean()\n",
    "playoff"
   ]
  },
  {
   "cell_type": "markdown",
   "metadata": {},
   "source": [
    "<div dir = \"rtl\" />\n",
    "\n",
    "### רוצו עבור כל Series והדפיסו את הערך החציוני (רק לעמודות שאפשר) והשאירו. שנו את ה-SERIES ל-DF "
   ]
  },
  {
   "cell_type": "code",
   "execution_count": null,
   "metadata": {
    "scrolled": false
   },
   "outputs": [],
   "source": [
    "playoff[[\"games\", \"wins\",\"tiko\", \"loses\", \"goals_zchot\", \"goals_hova\", \"points\"]].apply(lambda x: x.median(), axis=0).to_frame()"
   ]
  },
  {
   "cell_type": "markdown",
   "metadata": {},
   "source": [
    "<div dir = \"rtl\" />\n",
    "\n",
    "### צור מערך של אפסים בגודל של מספר הרשומות והשווה את זה לעמודה חדשה בשם grade "
   ]
  },
  {
   "cell_type": "code",
   "execution_count": null,
   "metadata": {},
   "outputs": [],
   "source": [
    "playoff[\"grade\"] = np.zeros(len(playoff))\n",
    "playoff"
   ]
  },
  {
   "cell_type": "markdown",
   "metadata": {},
   "source": [
    "<div dir = \"rtl\" />\n",
    "\n",
    "### לאחר תלונות על שיטת הניקוד  הבעייתית לכאורה של העונה, הוחלט לנקד באופן שונה את הניקוד ולהכריע על בסיס פרמטרים אחרים: "
   ]
  },
  {
   "cell_type": "markdown",
   "metadata": {},
   "source": [
    "<div dir = \"rtl\" />\n",
    "\n",
    "# בנו דוח ציונים על פי הפרמטרים הבאים: \n",
    "### פלוס נקודות כמספר אותיות בקבוצה\n",
    "### פלוס נקודות כמספר הניצחונות\n",
    "### מינוס נקודות כמספר ההפסדים\n",
    "### פלוס נקודות כמספר שערי הזכות\n",
    "### מינוס נקודות כמספר שערי החובה\n",
    "### אם המיקום הוא אי זוגי : +20 נקודות, אחרת, -20 נקודות\n",
    "### אם מספר הנקודות מתחלק ב7 ללא שארית: +40 נקודות"
   ]
  },
  {
   "cell_type": "markdown",
   "metadata": {},
   "source": [
    "<div dir = \"rtl\" />\n",
    "\n",
    "### שנו את עמודת grade בהתאם לפרמטרים: "
   ]
  },
  {
   "cell_type": "code",
   "execution_count": null,
   "metadata": {},
   "outputs": [],
   "source": [
    "def get_grade(row):\n",
    "    grade = 0\n",
    "    grade += len(row[\"team\"])\n",
    "    grade += row[\"wins\"]\n",
    "    grade -= row[\"loses\"]\n",
    "    grade += row[\"goals_zchot\"]\n",
    "    grade -= row[\"goals_hova\"]\n",
    "    if row.name % 2 != 0 : # name is like the mikom because the series is per row\n",
    "        grade += 20\n",
    "    else :\n",
    "        grade -= 20\n",
    "    if row[\"points\"] % 7 == 0:\n",
    "        grade += 40\n",
    "    return grade"
   ]
  },
  {
   "cell_type": "code",
   "execution_count": null,
   "metadata": {},
   "outputs": [],
   "source": [
    "playoff.apply(get_grade,axis=1)"
   ]
  },
  {
   "cell_type": "markdown",
   "metadata": {},
   "source": [
    "<div dir = \"rtl\" />\n",
    "\n",
    "### מי הקבוצה הזוכה? "
   ]
  },
  {
   "cell_type": "code",
   "execution_count": null,
   "metadata": {
    "scrolled": true
   },
   "outputs": [],
   "source": [
    "playoff[\"grade\"] = playoff.apply(get_grade,axis=1)\n",
    "playoff.sort_values(\"grade\", ascending=False).iloc[0][\"team\"]"
   ]
  }
 ],
 "metadata": {
  "kernelspec": {
   "display_name": "Python 3",
   "language": "python",
   "name": "python3"
  },
  "language_info": {
   "codemirror_mode": {
    "name": "ipython",
    "version": 3
   },
   "file_extension": ".py",
   "mimetype": "text/x-python",
   "name": "python",
   "nbconvert_exporter": "python",
   "pygments_lexer": "ipython3",
   "version": "3.7.4"
  }
 },
 "nbformat": 4,
 "nbformat_minor": 2
}
